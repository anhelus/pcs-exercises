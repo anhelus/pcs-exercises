{
 "cells": [
  {
   "attachments": {},
   "cell_type": "markdown",
   "metadata": {},
   "source": [
    "**Il primo notebook**\n",
    "\n",
    "Questo è un semplice notebook di esempio. In questa cella, che definiamo come di *markdown*, possiamo:\n",
    "\n",
    "* creare un elenco non numerato\n",
    "\n",
    "oppure\n",
    "\n",
    "1. creare un elenco numerato\n",
    "\n",
    "o anche scrivere un'equazione:\n",
    "\n",
    "$$\n",
    "a = b + c\n",
    "$$"
   ]
  },
  {
   "cell_type": "code",
   "execution_count": null,
   "metadata": {},
   "outputs": [],
   "source": [
    "# possiamo anche scrivere codice Python!\n",
    "b = 5\n",
    "c = 3\n",
    "a = b + c\n",
    "print(f'Il valore di a è {a}')"
   ]
  }
 ],
 "metadata": {
  "language_info": {
   "name": "python"
  },
  "orig_nbformat": 4
 },
 "nbformat": 4,
 "nbformat_minor": 2
}
