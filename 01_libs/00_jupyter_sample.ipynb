{
 "cells": [
  {
   "cell_type": "markdown",
   "metadata": {},
   "source": [
    "**Il primo notebook**\n",
    "\n",
    "Questo è un semplice notebook di esempio. In questa cella, che definiamo come di *markdown*, possiamo:\n",
    "\n",
    "* creare un elenco non numerato\n",
    "\n",
    "oppure\n",
    "\n",
    "1. creare un elenco numerato\n",
    "\n",
    "o anche scrivere un'equazione:\n",
    "\n",
    "$$\n",
    "a = \\frac{b}{c}\n",
    "$$"
   ]
  },
  {
   "cell_type": "code",
   "execution_count": 1,
   "metadata": {
    "tags": []
   },
   "outputs": [
    {
     "name": "stdout",
     "output_type": "stream",
     "text": [
      "Il valore di a è 8\n"
     ]
    }
   ],
   "source": [
    "# possiamo anche scrivere codice Python!\n",
    "b = 5\n",
    "c = 3\n",
    "a = b + c\n",
    "print(f'Il valore di a è {a}')"
   ]
  },
  {
   "cell_type": "code",
   "execution_count": null,
   "metadata": {},
   "outputs": [],
   "source": []
  }
 ],
 "metadata": {
  "kernelspec": {
   "display_name": "Python 3 (ipykernel)",
   "language": "python",
   "name": "python3"
  },
  "language_info": {
   "codemirror_mode": {
    "name": "ipython",
    "version": 3
   },
   "file_extension": ".py",
   "mimetype": "text/x-python",
   "name": "python",
   "nbconvert_exporter": "python",
   "pygments_lexer": "ipython3",
   "version": "3.9.13"
  }
 },
 "nbformat": 4,
 "nbformat_minor": 4
}
