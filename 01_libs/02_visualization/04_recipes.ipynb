{
 "cells": [
  {
   "cell_type": "code",
   "execution_count": null,
   "metadata": {},
   "outputs": [],
   "source": [
    "import numpy as np\n",
    "import matplotlib.pyplot as plt"
   ]
  },
  {
   "attachments": {},
   "cell_type": "markdown",
   "metadata": {},
   "source": [
    "**Recipe n.ro 1: raddoppiare l'asse delle $y$**\n",
    "\n",
    "Se volessimo inserire un nuovo asse delle $y$, questa volta a destra di quello normalmente utilizzato in fase di visualizzazione, dovremmo agire direttamente sul grafico generato da Matplotlib mediante la funzione [`twinx()`](https://matplotlib.org/stable/api/_as_gen/matplotlib.axes.Axes.twinx.html)."
   ]
  },
  {
   "cell_type": "code",
   "execution_count": null,
   "metadata": {},
   "outputs": [],
   "source": [
    "# Creo i dati da analizzare\n",
    "x = np.arange(0, 10, 0.01)\n",
    "y1 = x\n",
    "y2 = -1 * x\n",
    "\n",
    "# Creo il grafico\n",
    "fig, ax1 = plt.subplots()\n",
    "ax2 = ax1.twinx()\n",
    "ax1.plot(x, y1, 'g-')\n",
    "ax2.plot(x, y2, 'r-')\n",
    "# Imposto le label richieste\n",
    "ax1.set_xlabel('X')\n",
    "ax1.set_ylabel('Asse Y (primo)')\n",
    "ax2.set_ylabel('Asse y (secondo)')"
   ]
  }
 ],
 "metadata": {
  "language_info": {
   "name": "python"
  },
  "orig_nbformat": 4
 },
 "nbformat": 4,
 "nbformat_minor": 2
}
