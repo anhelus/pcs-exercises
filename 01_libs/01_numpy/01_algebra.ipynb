{
  "cells": [
    {
      "cell_type": "markdown",
      "metadata": {
        "id": "view-in-github",
        "colab_type": "text"
      },
      "source": [
        "<a href=\"https://colab.research.google.com/github/anhelus/pcs-exercises/blob/master/01_libs/01_numpy/01_algebra.ipynb\" target=\"_parent\"><img src=\"https://colab.research.google.com/assets/colab-badge.svg\" alt=\"Open In Colab\"/></a>"
      ]
    },
    {
      "cell_type": "markdown",
      "metadata": {
        "id": "mHtwWHWJCNNC"
      },
      "source": [
        "**Esercitazione 1 - NumPy e l'algebra**\n",
        "\n",
        "In questa esercitazione andremo ad introdurre i principali concetti legati all'utilizzo di NumPy in ambito algebrico."
      ]
    },
    {
      "cell_type": "code",
      "execution_count": 1,
      "metadata": {
        "id": "nZv_WiUqCNNE"
      },
      "outputs": [],
      "source": [
        "import numpy as np"
      ]
    },
    {
      "cell_type": "markdown",
      "metadata": {
        "id": "J3euyH-5CNNE"
      },
      "source": [
        "**Matrice trasposta**\n",
        "\n",
        "Per calcolare la **trasposta** di una matrice, usiamo la funzione [`numpy.transpose()`](https://numpy.org/doc/stable/reference/generated/numpy.transpose.html)."
      ]
    },
    {
      "cell_type": "code",
      "execution_count": 2,
      "metadata": {
        "colab": {
          "base_uri": "https://localhost:8080/"
        },
        "id": "gUcVJR5MCNNF",
        "outputId": "b7eb79fc-b0bd-448a-872a-0115a8b26630"
      },
      "outputs": [
        {
          "output_type": "execute_result",
          "data": {
            "text/plain": [
              "array([[1, 4],\n",
              "       [2, 5],\n",
              "       [3, 6]])"
            ]
          },
          "metadata": {},
          "execution_count": 2
        }
      ],
      "source": [
        "x = np.array([[1, 2, 3], [4, 5, 6]])\n",
        "np.transpose(x)"
      ]
    },
    {
      "cell_type": "markdown",
      "metadata": {
        "id": "1GeI7xYSCNNG"
      },
      "source": [
        "**Matrice inversa**\n",
        "\n",
        "Per calcolare l'**inversa** di una matrice, usiamo la funzione `inv` del package `linalg`."
      ]
    },
    {
      "cell_type": "code",
      "execution_count": 3,
      "metadata": {
        "colab": {
          "base_uri": "https://localhost:8080/"
        },
        "id": "VLc4haMDCNNG",
        "outputId": "64a4ad34-d848-4363-d993-fde875b255be"
      },
      "outputs": [
        {
          "output_type": "execute_result",
          "data": {
            "text/plain": [
              "array([[0.2 , 0.  , 0.  ],\n",
              "       [0.  , 0.5 , 0.  ],\n",
              "       [0.  , 0.  , 0.25]])"
            ]
          },
          "metadata": {},
          "execution_count": 3
        }
      ],
      "source": [
        "x = np.array([[5, 0, 0], [0, 2, 0], [0, 0, 4]])\n",
        "np.linalg.inv(x)"
      ]
    },
    {
      "cell_type": "markdown",
      "metadata": {
        "id": "EkB_o-_4CNNH"
      },
      "source": [
        "Se proviamo a calcolare l'inversa di una matrice rettangolare o di una matrice singolare, la funzione `inv` restituirà un errore di tipo `LinAlgError`."
      ]
    },
    {
      "cell_type": "code",
      "execution_count": 4,
      "metadata": {
        "colab": {
          "base_uri": "https://localhost:8080/"
        },
        "id": "cVG4xwc7CNNH",
        "outputId": "8eb7827a-b26a-42eb-d7a6-0718d4464d9e"
      },
      "outputs": [
        {
          "output_type": "stream",
          "name": "stdout",
          "text": [
            "Questo è ciò che accade se usiamo una matrice rettangolare!\n",
            "Questo è ciò che accade se usiamo una matrice singolare!\n"
          ]
        }
      ],
      "source": [
        "try:\n",
        "    mat = np.array([[1, 2, 3], [4, 5, 6]])\n",
        "    np.linalg.inv(mat)\n",
        "except np.linalg.LinAlgError:\n",
        "    print('Questo è ciò che accade se usiamo una matrice rettangolare!')\n",
        "try:\n",
        "    mat = np.array([[1,1,1],[2,2,2],[0,0,1]])\n",
        "    np.linalg.inv(mat)\n",
        "except np.linalg.LinAlgError:\n",
        "    print('Questo è ciò che accade se usiamo una matrice singolare!')"
      ]
    },
    {
      "cell_type": "markdown",
      "metadata": {
        "id": "kO19reyPCNNI"
      },
      "source": [
        "**Prodotti matriciali**\n",
        "\n",
        "Usiamo la funzione `inner` per calcolare il prodotto **scalare** tra due vettori. Partiamo con un caso monodimensionale:"
      ]
    },
    {
      "cell_type": "code",
      "execution_count": 5,
      "metadata": {
        "colab": {
          "base_uri": "https://localhost:8080/"
        },
        "id": "1iN6N4e8CNNI",
        "outputId": "f6856ff6-ab52-46fc-9018-3a8a625f8664"
      },
      "outputs": [
        {
          "output_type": "execute_result",
          "data": {
            "text/plain": [
              "np.int64(32)"
            ]
          },
          "metadata": {},
          "execution_count": 5
        }
      ],
      "source": [
        "a = np.array([1, 2, 3])\n",
        "b = np.array([4, 5, 6])\n",
        "\n",
        "# Il prodotto interno è (1*4)+(2*5)+(3*6)\n",
        "np.inner(a, b)"
      ]
    },
    {
      "cell_type": "markdown",
      "metadata": {
        "id": "iUe45_TTCNNJ"
      },
      "source": [
        "Vediamo cosa accade in un caso multidimensionale:"
      ]
    },
    {
      "cell_type": "code",
      "execution_count": 6,
      "metadata": {
        "colab": {
          "base_uri": "https://localhost:8080/"
        },
        "id": "2wrAdxc0CNNJ",
        "outputId": "3de38da1-364c-45e7-a273-e52291402ac0"
      },
      "outputs": [
        {
          "output_type": "execute_result",
          "data": {
            "text/plain": [
              "array([[2, 1],\n",
              "       [4, 3]])"
            ]
          },
          "metadata": {},
          "execution_count": 6
        }
      ],
      "source": [
        "a = np.array([[1, 2], [3, 4]])\n",
        "b = np.array([[0, 1], [1, 0]])\n",
        "\n",
        "np.inner(a, b)"
      ]
    },
    {
      "cell_type": "markdown",
      "metadata": {
        "id": "7A4h9vXrCNNJ"
      },
      "source": [
        "In questo caso, la formulazione è del tipo:\n",
        "\n",
        "$$\n",
        "p = \\left[\n",
        "    \\begin{array}{cc}\n",
        "        a_1 * b_1 + a_2 * b_2 & a_1 * b_3 + a_2 * b_4 \\\\\n",
        "        a_3 * b_1 + a_4 * b_2 & a_3 * b_3 + a_4 * b_4\n",
        "    \\end{array}\n",
        "\\right] = \\\\\n",
        "=\\left[\n",
        "    \\begin{array}{cc}\n",
        "        1 * 0 + 2 * 1 && 1 * 1 + 2 * 0 \\\\\n",
        "        3 * 0 + 4 * 1 && 3 * 1 + 4 * 0\n",
        "    \\end{array}\n",
        "\\right]\n",
        "= \\left[\n",
        "    \\begin{array}{cc}\n",
        "        2 & 1 \\\\\n",
        "        4 & 3\n",
        "    \\end{array}\n",
        "\\right]\n",
        "$$"
      ]
    },
    {
      "cell_type": "markdown",
      "metadata": {
        "id": "ktlJwtXqCNNJ"
      },
      "source": [
        "**Prodotto esterno**\n",
        "\n",
        "Il prodotto **esterno** viene calcolato mediante la funzione `outer`:"
      ]
    },
    {
      "cell_type": "code",
      "execution_count": 7,
      "metadata": {
        "colab": {
          "base_uri": "https://localhost:8080/"
        },
        "id": "rNbQb1GdCNNJ",
        "outputId": "bda85736-a14a-4bcb-b98e-f21f6f8436ac"
      },
      "outputs": [
        {
          "output_type": "execute_result",
          "data": {
            "text/plain": [
              "array([[3, 4],\n",
              "       [6, 8]])"
            ]
          },
          "metadata": {},
          "execution_count": 7
        }
      ],
      "source": [
        "a = np.array([1, 2])\n",
        "b = np.array([3, 4])\n",
        "\n",
        "np.outer(a, b)"
      ]
    },
    {
      "cell_type": "markdown",
      "metadata": {
        "id": "j7D9uIN8CNNK"
      },
      "source": [
        "**La funzione matmul()**\n",
        "\n",
        "La funzione `matmul` ci permette di effettuare il **prodotto matriciale** tra due matrici."
      ]
    },
    {
      "cell_type": "code",
      "execution_count": 8,
      "metadata": {
        "colab": {
          "base_uri": "https://localhost:8080/"
        },
        "id": "ytvkzNYqCNNK",
        "outputId": "a4afced6-2ee8-48eb-9666-1a6a195a7ed3"
      },
      "outputs": [
        {
          "output_type": "execute_result",
          "data": {
            "text/plain": [
              "array([[19, 22],\n",
              "       [43, 50]])"
            ]
          },
          "metadata": {},
          "execution_count": 8
        }
      ],
      "source": [
        "a = np.array([[1, 2], [3, 4]])\n",
        "b = np.array([[5, 6], [7, 8]])\n",
        "\n",
        "np.matmul(a, b)"
      ]
    },
    {
      "cell_type": "markdown",
      "metadata": {
        "id": "jD6gYuhaCNNK"
      },
      "source": [
        "`matmul()` non può essere usata con uno scalare come parametro, a differenza della `dot()`:"
      ]
    },
    {
      "cell_type": "code",
      "execution_count": 9,
      "metadata": {
        "colab": {
          "base_uri": "https://localhost:8080/"
        },
        "id": "6s9E2jfVCNNK",
        "outputId": "a9befd7f-650c-4696-fa52-cca8f8c151c3"
      },
      "outputs": [
        {
          "output_type": "stream",
          "name": "stdout",
          "text": [
            "matmul non può essere usata con uno scalare!\n"
          ]
        }
      ],
      "source": [
        "try:\n",
        "  np.matmul(a, 3)\n",
        "except ValueError:\n",
        "  print('matmul non può essere usata con uno scalare!')"
      ]
    },
    {
      "cell_type": "markdown",
      "metadata": {
        "id": "1hFNSbHOCNNK"
      },
      "source": [
        "**Potenza di matrice**\n",
        "\n",
        "Per **elevare la matrice a potenza** utilizzare la funzione `matrix_power` del package `linalg`:"
      ]
    },
    {
      "cell_type": "code",
      "execution_count": 10,
      "metadata": {
        "colab": {
          "base_uri": "https://localhost:8080/"
        },
        "id": "of9-ktAxCNNL",
        "outputId": "5dd88082-a553-45a9-89e4-c81219ce0c1a"
      },
      "outputs": [
        {
          "output_type": "execute_result",
          "data": {
            "text/plain": [
              "array([[1069, 1558],\n",
              "       [2337, 3406]])"
            ]
          },
          "metadata": {},
          "execution_count": 10
        }
      ],
      "source": [
        "np.linalg.matrix_power(a, 5)"
      ]
    },
    {
      "cell_type": "markdown",
      "metadata": {
        "id": "qQPoYAQlCNNL"
      },
      "source": [
        "**Autovettori ed autovalore**\n",
        "\n",
        "Per calcolare **autovettori ed autovalori** di una matrice, usiamo la funzione `eig` del package `linalg`:"
      ]
    },
    {
      "cell_type": "code",
      "execution_count": 11,
      "metadata": {
        "colab": {
          "base_uri": "https://localhost:8080/"
        },
        "id": "pguAa5khCNNL",
        "outputId": "5822a544-1146-4d44-d31b-c20067c866f2"
      },
      "outputs": [
        {
          "output_type": "stream",
          "name": "stdout",
          "text": [
            "Autovalori: [-0.37228132  5.37228132] \n",
            "Autovettori: [[-0.82456484 -0.41597356]\n",
            " [ 0.56576746 -0.90937671]]\n"
          ]
        }
      ],
      "source": [
        "(w, v) = np.linalg.eig(a)\n",
        "print('Autovalori:', w, '\\nAutovettori:', v)"
      ]
    },
    {
      "cell_type": "markdown",
      "metadata": {
        "id": "PDn3ERV1CNNL"
      },
      "source": [
        "**Norma, rango, determinante e traccia**\n",
        "\n",
        "Per calcolare la norma, usiamo la funzione `norm`:"
      ]
    },
    {
      "cell_type": "code",
      "execution_count": 12,
      "metadata": {
        "colab": {
          "base_uri": "https://localhost:8080/"
        },
        "id": "yR-6i7sHCNNL",
        "outputId": "294044a2-b6c3-4cb2-d56c-448721491d25"
      },
      "outputs": [
        {
          "output_type": "execute_result",
          "data": {
            "text/plain": [
              "np.float64(5.477225575051661)"
            ]
          },
          "metadata": {},
          "execution_count": 12
        }
      ],
      "source": [
        "np.linalg.norm(a)"
      ]
    },
    {
      "cell_type": "markdown",
      "metadata": {
        "id": "cw6nc0NKCNNM"
      },
      "source": [
        "Per calcolare rango, determinante e traccia, usiamo rispettivamente:"
      ]
    },
    {
      "cell_type": "code",
      "execution_count": 13,
      "metadata": {
        "colab": {
          "base_uri": "https://localhost:8080/"
        },
        "id": "DGupAWccCNNM",
        "outputId": "f8cdf55b-5591-4a0a-c063-4ca93f8218af"
      },
      "outputs": [
        {
          "output_type": "stream",
          "name": "stdout",
          "text": [
            "Rango: 2 \n",
            "Determinante: -2.0000000000000004 \n",
            "Traccia: 5\n"
          ]
        }
      ],
      "source": [
        "# Rango:\n",
        "rank = np.linalg.matrix_rank(a)\n",
        "det = np.linalg.det(a)\n",
        "tr = np.trace(a)\n",
        "\n",
        "print('Rango:', rank, '\\nDeterminante:', det, '\\nTraccia:', tr)"
      ]
    },
    {
      "cell_type": "markdown",
      "metadata": {
        "id": "akTlkSE7CNNM"
      },
      "source": [
        "Per risolvere il seguente sistema di equazioni lineari:\n",
        "\n",
        "$$\n",
        "\\begin{cases}\n",
        "x_1 + 2 x_2 + 5 x_3 = y \\\\\n",
        "2 x_1 + 2 x_2 + 3 x_3 = 3 y \\\\\n",
        "2 x_1 + 2 x_2 + x_3 = 2 y\n",
        "\\end{cases}\n",
        "$$"
      ]
    },
    {
      "cell_type": "code",
      "execution_count": 14,
      "metadata": {
        "colab": {
          "base_uri": "https://localhost:8080/"
        },
        "id": "qQr8AL-3CNNM",
        "outputId": "7daaedbb-dab1-4666-c8bd-4f50bc52cc76"
      },
      "outputs": [
        {
          "output_type": "execute_result",
          "data": {
            "text/plain": [
              "array([ 2.  , -3.75,  3.25])"
            ]
          },
          "metadata": {},
          "execution_count": 14
        }
      ],
      "source": [
        "x = np.array([[1, 2, 2], [2, 2, 2], [5, 3, 1]])\n",
        "y = np.array([1, 3, 2])\n",
        "\n",
        "np.linalg.solve(x, y)"
      ]
    },
    {
      "cell_type": "code",
      "execution_count": 14,
      "metadata": {
        "id": "6KYxmRnFCNNM"
      },
      "outputs": [],
      "source": []
    }
  ],
  "metadata": {
    "kernelspec": {
      "display_name": "Python 3",
      "language": "python",
      "name": "python3"
    },
    "language_info": {
      "codemirror_mode": {
        "name": "ipython",
        "version": 3
      },
      "file_extension": ".py",
      "mimetype": "text/x-python",
      "name": "python",
      "nbconvert_exporter": "python",
      "pygments_lexer": "ipython3",
      "version": "3.9.13"
    },
    "orig_nbformat": 4,
    "vscode": {
      "interpreter": {
        "hash": "22685ff5c36c779770909c26146eddc5935ed798a7a0cffed813855458ad1987"
      }
    },
    "colab": {
      "provenance": [],
      "include_colab_link": true
    }
  },
  "nbformat": 4,
  "nbformat_minor": 0
}