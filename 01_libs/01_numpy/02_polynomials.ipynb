{
 "cells": [
  {
   "attachments": {},
   "cell_type": "markdown",
   "metadata": {},
   "source": [
    "**Esercitazione 2 - Polinomi in NumPy**\n",
    "\n",
    "In questa esercitazione vedremo come si utilizzano i polinomi in NumPy."
   ]
  },
  {
   "cell_type": "code",
   "execution_count": 41,
   "metadata": {},
   "outputs": [],
   "source": [
    "import numpy as np\n",
    "\n",
    "from numpy.polynomial import polynomial as P"
   ]
  },
  {
   "attachments": {},
   "cell_type": "markdown",
   "metadata": {},
   "source": [
    "**Definizione di un polinomio**\n",
    "\n",
    "Per definire un polinomio, creiamo un oggetto di classe `Polynomial`. Proviamo a considerare i seguenti polinomi:\n",
    "\n",
    "$$\n",
    "\\begin{cases}\n",
    "c_1 = 2x + 1 \\\\\n",
    "c_2 = x^2 + 3x + 2 \\\\\n",
    "c_3 = x + 1\n",
    "\\end{cases}\n",
    "$$\n",
    "\n",
    "Allora:"
   ]
  },
  {
   "cell_type": "code",
   "execution_count": 42,
   "metadata": {},
   "outputs": [
    {
     "name": "stdout",
     "output_type": "stream",
     "text": [
      "c_1: 1.0 + 2.0 x\n",
      "c_2: 2.0 + 3.0 x + 1.0 x**2\n",
      "c_3: 1.0 + 1.0 x\n"
     ]
    }
   ],
   "source": [
    "coef_1 = [2, 1]\n",
    "coef_2 = [1, 3, 2]\n",
    "coef_3 = [1, 1]\n",
    "\n",
    "c_1 = P.Polynomial(coef_1[::-1])\n",
    "c_2 = P.Polynomial(coef_2[::-1])\n",
    "c_3 = P.Polynomial(coef_3[::-1])\n",
    "\n",
    "print(f'c_1: {c_1}')\n",
    "print(f'c_2: {c_2}')\n",
    "print(f'c_3: {c_3}')"
   ]
  },
  {
   "attachments": {},
   "cell_type": "markdown",
   "metadata": {},
   "source": [
    "**Operazioni tra polinomi**\n",
    "\n",
    "Per effettuare un'**addizione** tra polinomi, usiamo la funzione `polyadd`."
   ]
  },
  {
   "cell_type": "code",
   "execution_count": 43,
   "metadata": {},
   "outputs": [
    {
     "name": "stdout",
     "output_type": "stream",
     "text": [
      "Somma di c_1 e c_2:\n",
      "3.0 + 5.0 x + 1.0 x**2\n",
      "Somma di c_1 e c_3:\n",
      "2.0 + 3.0 x\n"
     ]
    }
   ],
   "source": [
    "poly_sum_1 = P.polyadd(c_1, c_2)\n",
    "poly_sum_2 = P.polyadd(c_1, c_3)\n",
    "\n",
    "print(f'Somma di c_1 e c_2:\\n{P.Polynomial(poly_sum_1)}')\n",
    "print(f'Somma di c_1 e c_3:\\n{P.Polynomial(poly_sum_2)}')"
   ]
  },
  {
   "attachments": {},
   "cell_type": "markdown",
   "metadata": {},
   "source": [
    "I risultati sono coerenti con quanto ci aspettiamo, giacché:\n",
    "\n",
    "$$\n",
    "\\begin{cases}\n",
    "c_1 = x^2 + 5x + 3 \\\\\n",
    "c_2 = 3x + 2\n",
    "\\end{cases}\n",
    "$$\n",
    "\n",
    "Per **sottrarre** due polinomi:"
   ]
  },
  {
   "cell_type": "code",
   "execution_count": 44,
   "metadata": {},
   "outputs": [
    {
     "name": "stdout",
     "output_type": "stream",
     "text": [
      "Sottrazione di c_1 a c_2:\n",
      "1.0 + 1.0 x + 1.0 x**2\n"
     ]
    }
   ],
   "source": [
    "poly_sub = P.polysub(c_2, c_1)\n",
    "\n",
    "print(f'Sottrazione di c_1 a c_2:\\n{P.Polynomial(poly_sub)}')"
   ]
  },
  {
   "attachments": {},
   "cell_type": "markdown",
   "metadata": {},
   "source": [
    "Per **moltiplicare** due polinomi, usiamo `polymul`:"
   ]
  },
  {
   "cell_type": "code",
   "execution_count": 45,
   "metadata": {},
   "outputs": [
    {
     "name": "stdout",
     "output_type": "stream",
     "text": [
      "Quadrato di c_1:\n",
      "1.0 + 4.0 x + 4.0 x**2\n"
     ]
    }
   ],
   "source": [
    "p_mul = P.polymul(c_1, c_1)\n",
    "\n",
    "print(f'Quadrato di c_1:\\n{P.Polynomial(p_mul)}')"
   ]
  },
  {
   "attachments": {},
   "cell_type": "markdown",
   "metadata": {},
   "source": [
    "Sottolineamo che la `polymul` restituisce un array di coefficienti polinomi. Di conseguenza, per dividere `p_mul` per `c_1`, dovremo utilizzare `p_mul` come array di coefficienti, ed estrarre i coefficienti di `c_1` mediante l'attributo `coef`."
   ]
  },
  {
   "cell_type": "code",
   "execution_count": 46,
   "metadata": {},
   "outputs": [
    {
     "name": "stdout",
     "output_type": "stream",
     "text": [
      "Quoziente tra p_mul e c_1:\n",
      "0.0\n",
      "Resto tra p_mul e c_1:\n",
      "1.0 + 4.0 x + 4.0 x**2\n"
     ]
    }
   ],
   "source": [
    "# Opzione 1: p_mul è un array di coefficienti, usiamo i coefficienti di c_1\n",
    "p_div_coef = P.polydiv(p_mul, c_1.coef)\n",
    "\n",
    "# Risultati opzione 1\n",
    "print(f'Quoziente tra p_mul e c_1:\\n{P.Polynomial(p_div_coef[0])}')\n",
    "print(f'Resto tra p_mul e c_1:\\n{P.Polynomial(p_div_coef[1])}')"
   ]
  },
  {
   "cell_type": "markdown",
   "metadata": {},
   "source": [
    "Infine, per **elevare a potenza** un polinomio:"
   ]
  },
  {
   "cell_type": "code",
   "execution_count": 47,
   "metadata": {},
   "outputs": [
    {
     "name": "stdout",
     "output_type": "stream",
     "text": [
      "Il cubo di c_1 è pari a:\n",
      "1.0 + 6.0 x + 12.0 x**2 + 8.0 x**3\n"
     ]
    }
   ],
   "source": [
    "p_pow = P.polypow(c_1, 3)\n",
    "\n",
    "print(f'Il cubo di c_1 è pari a:\\n{P.Polynomial(p_pow)}')"
   ]
  },
  {
   "cell_type": "markdown",
   "metadata": {},
   "source": [
    "Valutiamo i valori assunti dal polinomio `c1` in $0, 1, 2$:"
   ]
  },
  {
   "cell_type": "code",
   "execution_count": 48,
   "metadata": {},
   "outputs": [
    {
     "name": "stdout",
     "output_type": "stream",
     "text": [
      "Per x = 0, c_1 vale:1.0\n",
      "Per x = 1, c_1 vale:3.0\n",
      "Per x = 2, c_1 vale:5.0\n"
     ]
    }
   ],
   "source": [
    "vals = P.polyval([0, 1, 2], c_1.coef)\n",
    "\n",
    "print(f'Per x = 0, c_1 vale:{vals[0]}')\n",
    "print(f'Per x = 1, c_1 vale:{vals[1]}')\n",
    "print(f'Per x = 2, c_1 vale:{vals[2]}')"
   ]
  },
  {
   "cell_type": "markdown",
   "metadata": {},
   "source": [
    "Per calcolare la **derivata** e l'**integrale** di un polinomio:"
   ]
  },
  {
   "cell_type": "code",
   "execution_count": 49,
   "metadata": {},
   "outputs": [
    {
     "name": "stdout",
     "output_type": "stream",
     "text": [
      "La derivata di c_1 è:2.0\n",
      "L'integrale indefinito di c1 è:0.0 + 1.0 x + 1.0 x**2\n"
     ]
    }
   ],
   "source": [
    "p_der_one = P.polyder(c_1.coef)\n",
    "print(f'La derivata di c_1 è:{P.Polynomial(p_der_one)}')\n",
    "\n",
    "p_int = P.polyint(c_1.coef)\n",
    "print(f'L\\'integrale indefinito di c1 è:{P.Polynomial(p_int)}')"
   ]
  },
  {
   "cell_type": "code",
   "execution_count": null,
   "metadata": {},
   "outputs": [],
   "source": []
  }
 ],
 "metadata": {
  "kernelspec": {
   "display_name": "python-calcolo-numerico-3shughjH",
   "language": "python",
   "name": "python3"
  },
  "language_info": {
   "codemirror_mode": {
    "name": "ipython",
    "version": 3
   },
   "file_extension": ".py",
   "mimetype": "text/x-python",
   "name": "python",
   "nbconvert_exporter": "python",
   "pygments_lexer": "ipython3",
   "version": "3.9.13"
  },
  "orig_nbformat": 4,
  "vscode": {
   "interpreter": {
    "hash": "8b414f79017cbdc683bb44a5e152ec932dd1464a9aca0bdb881b548592158994"
   }
  }
 },
 "nbformat": 4,
 "nbformat_minor": 2
}
