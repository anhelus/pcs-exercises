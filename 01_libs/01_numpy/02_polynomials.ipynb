{
  "cells": [
    {
      "cell_type": "markdown",
      "metadata": {
        "id": "view-in-github",
        "colab_type": "text"
      },
      "source": [
        "<a href=\"https://colab.research.google.com/github/anhelus/pcs-exercises/blob/master/01_libs/01_numpy/02_polynomials.ipynb\" target=\"_parent\"><img src=\"https://colab.research.google.com/assets/colab-badge.svg\" alt=\"Open In Colab\"/></a>"
      ]
    },
    {
      "cell_type": "markdown",
      "metadata": {
        "id": "-BprxcNqCrjQ"
      },
      "source": [
        "**Esercitazione 2 - Polinomi in NumPy**\n",
        "\n",
        "In questa esercitazione vedremo come si utilizzano i polinomi in NumPy."
      ]
    },
    {
      "cell_type": "code",
      "execution_count": 1,
      "metadata": {
        "id": "rHf1dFBSCrjS"
      },
      "outputs": [],
      "source": [
        "import numpy as np\n",
        "\n",
        "from numpy.polynomial import polynomial as P"
      ]
    },
    {
      "cell_type": "markdown",
      "metadata": {
        "id": "dojUZrM7CrjS"
      },
      "source": [
        "**Definizione di un polinomio**\n",
        "\n",
        "Per definire un polinomio, creiamo un oggetto di classe `Polynomial`. Proviamo a considerare i seguenti polinomi:\n",
        "\n",
        "$$\n",
        "\\begin{cases}\n",
        "c_1 = 2x + 1 \\\\\n",
        "c_2 = x^2 + 3x + 2 \\\\\n",
        "c_3 = x + 1\n",
        "\\end{cases}\n",
        "$$\n",
        "\n",
        "Allora:"
      ]
    },
    {
      "cell_type": "code",
      "execution_count": 2,
      "metadata": {
        "colab": {
          "base_uri": "https://localhost:8080/"
        },
        "id": "qqPYt6sqCrjT",
        "outputId": "dd077954-4945-4dec-b296-16461dd99b90"
      },
      "outputs": [
        {
          "output_type": "stream",
          "name": "stdout",
          "text": [
            "c_1: 1.0 + 2.0·x\n",
            "c_2: 2.0 + 3.0·x + 1.0·x²\n",
            "c_3: 1.0 + 1.0·x\n"
          ]
        }
      ],
      "source": [
        "coef_1 = [2, 1]\n",
        "coef_2 = [1, 3, 2]\n",
        "coef_3 = [1, 1]\n",
        "\n",
        "c_1 = P.Polynomial(coef_1[::-1])\n",
        "c_2 = P.Polynomial(coef_2[::-1])\n",
        "c_3 = P.Polynomial(coef_3[::-1])\n",
        "\n",
        "print(f'c_1: {c_1}')\n",
        "print(f'c_2: {c_2}')\n",
        "print(f'c_3: {c_3}')"
      ]
    },
    {
      "cell_type": "markdown",
      "metadata": {
        "id": "3IU5TmbACrjT"
      },
      "source": [
        "**Operazioni tra polinomi**\n",
        "\n",
        "Per effettuare un'**addizione** tra polinomi, usiamo la funzione `polyadd`."
      ]
    },
    {
      "cell_type": "code",
      "execution_count": 3,
      "metadata": {
        "colab": {
          "base_uri": "https://localhost:8080/"
        },
        "id": "9oSdhTpZCrjT",
        "outputId": "917b55f3-2d75-402c-9c68-d6098faa1acc"
      },
      "outputs": [
        {
          "output_type": "stream",
          "name": "stdout",
          "text": [
            "Somma di c_1 e c_2:\n",
            "3.0 + 5.0·x + 1.0·x²\n",
            "Somma di c_1 e c_3:\n",
            "2.0 + 3.0·x\n"
          ]
        }
      ],
      "source": [
        "poly_sum_1 = P.polyadd(c_1, c_2)\n",
        "poly_sum_2 = P.polyadd(c_1, c_3)\n",
        "\n",
        "print(f'Somma di c_1 e c_2:\\n{P.Polynomial(poly_sum_1)}')\n",
        "print(f'Somma di c_1 e c_3:\\n{P.Polynomial(poly_sum_2)}')"
      ]
    },
    {
      "cell_type": "markdown",
      "metadata": {
        "id": "VvFCleXFCrjU"
      },
      "source": [
        "I risultati sono coerenti con quanto ci aspettiamo, giacché:\n",
        "\n",
        "$$\n",
        "\\begin{cases}\n",
        "c_1 = x^2 + 5x + 3 \\\\\n",
        "c_2 = 3x + 2\n",
        "\\end{cases}\n",
        "$$\n",
        "\n",
        "Per **sottrarre** due polinomi:"
      ]
    },
    {
      "cell_type": "code",
      "execution_count": 4,
      "metadata": {
        "colab": {
          "base_uri": "https://localhost:8080/"
        },
        "id": "LVGDZxqlCrjU",
        "outputId": "ce9be38e-4f3b-4afd-ba88-1c844f5190e2"
      },
      "outputs": [
        {
          "output_type": "stream",
          "name": "stdout",
          "text": [
            "Sottrazione di c_1 a c_2:\n",
            "1.0 + 1.0·x + 1.0·x²\n"
          ]
        }
      ],
      "source": [
        "poly_sub = P.polysub(c_2, c_1)\n",
        "\n",
        "print(f'Sottrazione di c_1 a c_2:\\n{P.Polynomial(poly_sub)}')"
      ]
    },
    {
      "cell_type": "markdown",
      "metadata": {
        "id": "PCVbZQh4CrjU"
      },
      "source": [
        "Per **moltiplicare** due polinomi, usiamo `polymul`:"
      ]
    },
    {
      "cell_type": "code",
      "execution_count": 5,
      "metadata": {
        "colab": {
          "base_uri": "https://localhost:8080/"
        },
        "id": "6pZmAtsKCrjU",
        "outputId": "f3d9a062-c61d-435a-92cc-b6e4694228ae"
      },
      "outputs": [
        {
          "output_type": "stream",
          "name": "stdout",
          "text": [
            "Quadrato di c_1:\n",
            "1.0 + 4.0·x + 4.0·x²\n"
          ]
        }
      ],
      "source": [
        "p_mul = P.polymul(c_1, c_1)\n",
        "\n",
        "print(f'Quadrato di c_1:\\n{P.Polynomial(p_mul)}')"
      ]
    },
    {
      "cell_type": "markdown",
      "metadata": {
        "id": "eviUxV2yCrjU"
      },
      "source": [
        "Sottolineamo che la `polymul` restituisce un array di coefficienti polinomi. Di conseguenza, per dividere `p_mul` per `c_1`, dovremo utilizzare `p_mul` come array di coefficienti, ed estrarre i coefficienti di `c_1` mediante l'attributo `coef`."
      ]
    },
    {
      "cell_type": "code",
      "execution_count": 6,
      "metadata": {
        "colab": {
          "base_uri": "https://localhost:8080/"
        },
        "id": "ptcWNXblCrjU",
        "outputId": "0c7018df-0016-4f8c-d5dd-c0ce77e7ceb2"
      },
      "outputs": [
        {
          "output_type": "stream",
          "name": "stdout",
          "text": [
            "Quoziente tra p_mul e c_1:\n",
            "0.0\n",
            "Resto tra p_mul e c_1:\n",
            "1.0 + 4.0·x + 4.0·x²\n"
          ]
        }
      ],
      "source": [
        "# Opzione 1: p_mul è un array di coefficienti, usiamo i coefficienti di c_1\n",
        "p_div_coef = P.polydiv(p_mul, c_1.coef)\n",
        "\n",
        "# Risultati opzione 1\n",
        "print(f'Quoziente tra p_mul e c_1:\\n{P.Polynomial(p_div_coef[0])}')\n",
        "print(f'Resto tra p_mul e c_1:\\n{P.Polynomial(p_div_coef[1])}')"
      ]
    },
    {
      "cell_type": "markdown",
      "metadata": {
        "id": "2y6lk08sCrjV"
      },
      "source": [
        "Infine, per **elevare a potenza** un polinomio:"
      ]
    },
    {
      "cell_type": "code",
      "execution_count": 7,
      "metadata": {
        "colab": {
          "base_uri": "https://localhost:8080/"
        },
        "id": "yViXVNRGCrjV",
        "outputId": "627b5e14-ff85-4dca-bb58-b1285dfe22ff"
      },
      "outputs": [
        {
          "output_type": "stream",
          "name": "stdout",
          "text": [
            "Il cubo di c_1 è pari a:\n",
            "1.0 + 6.0·x + 12.0·x² + 8.0·x³\n"
          ]
        }
      ],
      "source": [
        "p_pow = P.polypow(c_1, 3)\n",
        "\n",
        "print(f'Il cubo di c_1 è pari a:\\n{P.Polynomial(p_pow)}')"
      ]
    },
    {
      "cell_type": "markdown",
      "metadata": {
        "id": "Q22qPUUBCrjV"
      },
      "source": [
        "Valutiamo i valori assunti dal polinomio `c1` in $0, 1, 2$:"
      ]
    },
    {
      "cell_type": "code",
      "execution_count": 8,
      "metadata": {
        "colab": {
          "base_uri": "https://localhost:8080/"
        },
        "id": "1UtbDbgdCrjV",
        "outputId": "8be7032c-9cd0-4e18-b624-fdca1488034f"
      },
      "outputs": [
        {
          "output_type": "stream",
          "name": "stdout",
          "text": [
            "Per x = 0, c_1 vale:1.0\n",
            "Per x = 1, c_1 vale:3.0\n",
            "Per x = 2, c_1 vale:5.0\n"
          ]
        }
      ],
      "source": [
        "vals = P.polyval([0, 1, 2], c_1.coef)\n",
        "\n",
        "print(f'Per x = 0, c_1 vale:{vals[0]}')\n",
        "print(f'Per x = 1, c_1 vale:{vals[1]}')\n",
        "print(f'Per x = 2, c_1 vale:{vals[2]}')"
      ]
    },
    {
      "cell_type": "markdown",
      "metadata": {
        "id": "NazlDhnqCrjV"
      },
      "source": [
        "Per calcolare la **derivata** e l'**integrale** di un polinomio:"
      ]
    },
    {
      "cell_type": "code",
      "execution_count": 9,
      "metadata": {
        "colab": {
          "base_uri": "https://localhost:8080/"
        },
        "id": "ltwIG00bCrjV",
        "outputId": "f754bdf5-4374-44da-b57d-efb9ebebabb5"
      },
      "outputs": [
        {
          "output_type": "stream",
          "name": "stdout",
          "text": [
            "La derivata di c_1 è:2.0\n",
            "L'integrale indefinito di c1 è:0.0 + 1.0·x + 1.0·x²\n"
          ]
        }
      ],
      "source": [
        "p_der_one = P.polyder(c_1.coef)\n",
        "print(f'La derivata di c_1 è:{P.Polynomial(p_der_one)}')\n",
        "\n",
        "p_int = P.polyint(c_1.coef)\n",
        "print(f'L\\'integrale indefinito di c1 è:{P.Polynomial(p_int)}')"
      ]
    },
    {
      "cell_type": "code",
      "execution_count": 9,
      "metadata": {
        "id": "zQJtxrtECrjV"
      },
      "outputs": [],
      "source": []
    }
  ],
  "metadata": {
    "kernelspec": {
      "display_name": "python-calcolo-numerico-3shughjH",
      "language": "python",
      "name": "python3"
    },
    "language_info": {
      "codemirror_mode": {
        "name": "ipython",
        "version": 3
      },
      "file_extension": ".py",
      "mimetype": "text/x-python",
      "name": "python",
      "nbconvert_exporter": "python",
      "pygments_lexer": "ipython3",
      "version": "3.9.13"
    },
    "orig_nbformat": 4,
    "vscode": {
      "interpreter": {
        "hash": "8b414f79017cbdc683bb44a5e152ec932dd1464a9aca0bdb881b548592158994"
      }
    },
    "colab": {
      "provenance": [],
      "include_colab_link": true
    }
  },
  "nbformat": 4,
  "nbformat_minor": 0
}