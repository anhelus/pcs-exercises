{
 "cells": [
  {
   "attachments": {},
   "cell_type": "markdown",
   "metadata": {},
   "source": [
    "**Esercitazione 3 - Operazioni statistiche di base in NumPy**\n",
    "\n",
    "In questa esercitazione vedremo come effettuare delle operazioni statistiche di base in NumPy."
   ]
  },
  {
   "cell_type": "code",
   "execution_count": 33,
   "metadata": {},
   "outputs": [],
   "source": [
    "import numpy as np"
   ]
  },
  {
   "attachments": {},
   "cell_type": "markdown",
   "metadata": {},
   "source": [
    "**Minimo e massimo**\n",
    "\n",
    "Per ottenere il **minimo** ed il **massimo** di un vettore:"
   ]
  },
  {
   "cell_type": "code",
   "execution_count": 34,
   "metadata": {},
   "outputs": [
    {
     "name": "stdout",
     "output_type": "stream",
     "text": [
      "[0 7 6 4 4] \n",
      "\n",
      "Minimo: 0 \n",
      "Massimo: 7\n"
     ]
    }
   ],
   "source": [
    "rng = np.random.default_rng(42)\n",
    "a = rng.integers(low=0, high=10, size=5)\n",
    "print(a, '\\n')\n",
    "print('Minimo:', np.amin(a), '\\nMassimo:', np.amax(a))"
   ]
  },
  {
   "cell_type": "markdown",
   "metadata": {},
   "source": [
    "Per un array multidimensionale vale la stessa notazione:"
   ]
  },
  {
   "cell_type": "code",
   "execution_count": 35,
   "metadata": {},
   "outputs": [
    {
     "name": "stdout",
     "output_type": "stream",
     "text": [
      "[[8 0 6]\n",
      " [2 0 5]\n",
      " [9 7 7]] \n",
      "\n",
      "Minimo: 0 \n",
      "Massimo: 9\n"
     ]
    }
   ],
   "source": [
    "b = rng.integers(low=0, high=10, size=(3, 3))\n",
    "print(b, '\\n')\n",
    "print('Minimo:', np.amin(b), '\\nMassimo:', np.amax(b))"
   ]
  },
  {
   "cell_type": "markdown",
   "metadata": {},
   "source": [
    "Operando per colonna o per riga:"
   ]
  },
  {
   "cell_type": "code",
   "execution_count": 36,
   "metadata": {},
   "outputs": [
    {
     "name": "stdout",
     "output_type": "stream",
     "text": [
      "[[8 0 6]\n",
      " [2 0 5]\n",
      " [9 7 7]] \n",
      "\n",
      "Minimo per riga: [0 0 7] \n",
      "Massimo per riga: [8 5 9]\n"
     ]
    }
   ],
   "source": [
    "print(b, '\\n')\n",
    "# print('Minimo per colonna:', np.amin(b, axis=0), '\\nMassimo per colonna:', np.amax(b, axis=0))\n",
    "print('Minimo per riga:', np.amin(b, axis=1), '\\nMassimo per riga:', np.amax(b, axis=1))"
   ]
  },
  {
   "attachments": {},
   "cell_type": "markdown",
   "metadata": {},
   "source": [
    "**Percentile e quantile**\n",
    "\n",
    "Per calcolare il percentile, gli step da seguire sono:\n",
    "\n",
    "1. Ordinare gli $n$ valori della distribuzione in ordine crescente.\n",
    "2. Se $p$ è il percentile in decimale, calcolare il prodotto $k = n \\cdot p$.\n",
    "3. Se $k$ è un intero, il percentile è dato dalla media tra il $k$-esimo ed il $k+1$-esimo valore dei dati ordinati.\n",
    "4. Se $k$ non è un intero, si arrotonda $k$ per eccesso al primo intero successivo, scegliendo il corrispondente valore dei dati ordinati.\n",
    "\n",
    "Facciamo un esempio."
   ]
  },
  {
   "cell_type": "code",
   "execution_count": 37,
   "metadata": {},
   "outputs": [
    {
     "name": "stdout",
     "output_type": "stream",
     "text": [
      "[71 78 51 12 83 45 50 37 18 92]\n"
     ]
    }
   ],
   "source": [
    "c = rng.integers(low=0, high=100, size=10)\n",
    "print(c)"
   ]
  },
  {
   "attachments": {},
   "cell_type": "markdown",
   "metadata": {},
   "source": [
    "Ordiniamo `c` usando `np.sort()`."
   ]
  },
  {
   "cell_type": "code",
   "execution_count": 38,
   "metadata": {},
   "outputs": [
    {
     "name": "stdout",
     "output_type": "stream",
     "text": [
      "[12 18 37 45 50 51 71 78 83 92]\n"
     ]
    }
   ],
   "source": [
    "sorted_c = np.sort(c)\n",
    "print(sorted_c)"
   ]
  },
  {
   "attachments": {},
   "cell_type": "markdown",
   "metadata": {},
   "source": [
    "Supponiamo di voler calcolare il $40$-percentile. Il valore di $k$ sarà dato da:"
   ]
  },
  {
   "cell_type": "code",
   "execution_count": 39,
   "metadata": {},
   "outputs": [
    {
     "name": "stdout",
     "output_type": "stream",
     "text": [
      "4.0\n"
     ]
    }
   ],
   "source": [
    "k = len(sorted_c) * 0.40\n",
    "print(k)"
   ]
  },
  {
   "attachments": {},
   "cell_type": "markdown",
   "metadata": {},
   "source": [
    "In questo caso, $k$ è un intero, per cui calcoliamo la media tra il $k$ ed il $k+1$-esimo elemento."
   ]
  },
  {
   "cell_type": "code",
   "execution_count": 40,
   "metadata": {},
   "outputs": [
    {
     "name": "stdout",
     "output_type": "stream",
     "text": [
      "47.5\n"
     ]
    }
   ],
   "source": [
    "k = round(k)\n",
    "perc = (sorted_c[k] + sorted_c[k-1])/2\n",
    "print(perc)"
   ]
  },
  {
   "attachments": {},
   "cell_type": "markdown",
   "metadata": {},
   "source": [
    "Usando NumPy:"
   ]
  },
  {
   "cell_type": "code",
   "execution_count": 41,
   "metadata": {},
   "outputs": [
    {
     "name": "stdout",
     "output_type": "stream",
     "text": [
      "40-percentile di c: 48.0\n"
     ]
    }
   ],
   "source": [
    "print(f'40-percentile di c: {np.percentile(c, 40)}')"
   ]
  },
  {
   "attachments": {},
   "cell_type": "markdown",
   "metadata": {},
   "source": [
    "Le funzioni `percentile` e `quantile` prevedono anche l'uso del parametro `axis`:"
   ]
  },
  {
   "cell_type": "code",
   "execution_count": 42,
   "metadata": {},
   "outputs": [
    {
     "name": "stdout",
     "output_type": "stream",
     "text": [
      "[[8 0 6]\n",
      " [2 0 5]\n",
      " [9 7 7]]\n",
      "50-quantile lungo le colonne di b:\n",
      " [8. 0. 6.]\n",
      "50-percentile lungo le righe di b:\n",
      " [[6.]\n",
      " [2.]\n",
      " [7.]]\n"
     ]
    }
   ],
   "source": [
    "print(b)\n",
    "print('50-quantile lungo le colonne di b:\\n', np.quantile(b, .5, axis=0))\n",
    "print('50-percentile lungo le righe di b:\\n', np.percentile(b, 50, axis=1, keepdims=True))"
   ]
  },
  {
   "attachments": {},
   "cell_type": "markdown",
   "metadata": {},
   "source": [
    "**Calcolo della media**\n",
    "\n",
    "Per calcolare la media **ponderata** ed **aritmetica** di un vettore:"
   ]
  },
  {
   "cell_type": "code",
   "execution_count": 43,
   "metadata": {},
   "outputs": [
    {
     "name": "stdout",
     "output_type": "stream",
     "text": [
      "[0 7 6 4 4]\n",
      "Media ponderata di a: 4.2\n",
      "Media pesata di a: 4.1\n",
      "Media aritmetica di a: 4.2\n"
     ]
    }
   ],
   "source": [
    "print(a)\n",
    "print('Media ponderata di a:', np.average(a))\n",
    "print('Media pesata di a:', np.average(a, weights=[1, 1, 1, 2, 5]))\n",
    "print('Media aritmetica di a:', np.mean(a))"
   ]
  },
  {
   "cell_type": "markdown",
   "metadata": {},
   "source": [
    "Possiamo calcolare la media lungo righe e colonne:"
   ]
  },
  {
   "cell_type": "code",
   "execution_count": 44,
   "metadata": {},
   "outputs": [
    {
     "name": "stdout",
     "output_type": "stream",
     "text": [
      "[[8 0 6]\n",
      " [2 0 5]\n",
      " [9 7 7]]\n",
      "Media lungo le colonne di b:\n",
      " [6.33333333 2.33333333 6.        ]\n",
      "Media lungo le righe di b:\n",
      " [[4.66666667]\n",
      " [2.33333333]\n",
      " [7.66666667]]\n"
     ]
    }
   ],
   "source": [
    "print(b)\n",
    "print('Media lungo le colonne di b:\\n', np.mean(b, axis=0))\n",
    "print('Media lungo le righe di b:\\n', np.mean(b, axis=1, keepdims=True))"
   ]
  },
  {
   "attachments": {},
   "cell_type": "markdown",
   "metadata": {},
   "source": [
    "**Varianza e deviazione standard**\n",
    "\n",
    "Per calcolare la varianza e la deviazione standard di un vettore:"
   ]
  },
  {
   "cell_type": "code",
   "execution_count": 45,
   "metadata": {},
   "outputs": [
    {
     "name": "stdout",
     "output_type": "stream",
     "text": [
      "Varianza di a: 5.76\n",
      "Deviazione standard di a: 2.4\n"
     ]
    }
   ],
   "source": [
    "print('Varianza di a:', np.var(a))\n",
    "print('Deviazione standard di a:', np.std(a))"
   ]
  },
  {
   "cell_type": "code",
   "execution_count": null,
   "metadata": {},
   "outputs": [],
   "source": []
  }
 ],
 "metadata": {
  "kernelspec": {
   "display_name": "python-calcolo-numerico-3shughjH",
   "language": "python",
   "name": "python3"
  },
  "language_info": {
   "codemirror_mode": {
    "name": "ipython",
    "version": 3
   },
   "file_extension": ".py",
   "mimetype": "text/x-python",
   "name": "python",
   "nbconvert_exporter": "python",
   "pygments_lexer": "ipython3",
   "version": "3.9.13"
  },
  "orig_nbformat": 4,
  "vscode": {
   "interpreter": {
    "hash": "8b414f79017cbdc683bb44a5e152ec932dd1464a9aca0bdb881b548592158994"
   }
  }
 },
 "nbformat": 4,
 "nbformat_minor": 2
}
