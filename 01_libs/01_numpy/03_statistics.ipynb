{
  "cells": [
    {
      "cell_type": "markdown",
      "metadata": {
        "id": "view-in-github",
        "colab_type": "text"
      },
      "source": [
        "<a href=\"https://colab.research.google.com/github/anhelus/pcs-exercises/blob/master/01_libs/01_numpy/03_statistics.ipynb\" target=\"_parent\"><img src=\"https://colab.research.google.com/assets/colab-badge.svg\" alt=\"Open In Colab\"/></a>"
      ]
    },
    {
      "cell_type": "markdown",
      "metadata": {
        "id": "aYdVpb0DC-kC"
      },
      "source": [
        "**Esercitazione 3 - Operazioni statistiche di base in NumPy**\n",
        "\n",
        "In questa esercitazione vedremo come effettuare delle operazioni statistiche di base in NumPy."
      ]
    },
    {
      "cell_type": "code",
      "execution_count": 1,
      "metadata": {
        "id": "3EqNmtxjC-kE"
      },
      "outputs": [],
      "source": [
        "import numpy as np"
      ]
    },
    {
      "cell_type": "markdown",
      "metadata": {
        "id": "-K-V2i_9C-kF"
      },
      "source": [
        "**Minimo e massimo**\n",
        "\n",
        "Per ottenere il **minimo** ed il **massimo** di un vettore:"
      ]
    },
    {
      "cell_type": "code",
      "execution_count": 2,
      "metadata": {
        "id": "SxMkJa-6C-kF",
        "outputId": "bf4b31f7-6fee-4c17-e10a-48b16908c173",
        "colab": {
          "base_uri": "https://localhost:8080/"
        }
      },
      "outputs": [
        {
          "output_type": "stream",
          "name": "stdout",
          "text": [
            "[0 7 6 4 4] \n",
            "\n",
            "Minimo: 0 \n",
            "Massimo: 7\n"
          ]
        }
      ],
      "source": [
        "rng = np.random.default_rng(42)\n",
        "a = rng.integers(low=0, high=10, size=5)\n",
        "print(a, '\\n')\n",
        "print('Minimo:', np.amin(a), '\\nMassimo:', np.amax(a))"
      ]
    },
    {
      "cell_type": "markdown",
      "metadata": {
        "id": "eIMFueRoC-kG"
      },
      "source": [
        "Per un array multidimensionale vale la stessa notazione:"
      ]
    },
    {
      "cell_type": "code",
      "execution_count": 3,
      "metadata": {
        "id": "sY9p3s3rC-kG",
        "outputId": "7004464e-05e1-41e3-f372-d6835411d8ba",
        "colab": {
          "base_uri": "https://localhost:8080/"
        }
      },
      "outputs": [
        {
          "output_type": "stream",
          "name": "stdout",
          "text": [
            "[[8 0 6]\n",
            " [2 0 5]\n",
            " [9 7 7]] \n",
            "\n",
            "Minimo: 0 \n",
            "Massimo: 9\n"
          ]
        }
      ],
      "source": [
        "b = rng.integers(low=0, high=10, size=(3, 3))\n",
        "print(b, '\\n')\n",
        "print('Minimo:', np.amin(b), '\\nMassimo:', np.amax(b))"
      ]
    },
    {
      "cell_type": "markdown",
      "metadata": {
        "id": "_g2hv_vWC-kH"
      },
      "source": [
        "Operando per colonna o per riga:"
      ]
    },
    {
      "cell_type": "code",
      "execution_count": 4,
      "metadata": {
        "id": "vYtm-mNPC-kH",
        "outputId": "6fdd4251-a49d-4cd6-8789-9efd60adc815",
        "colab": {
          "base_uri": "https://localhost:8080/"
        }
      },
      "outputs": [
        {
          "output_type": "stream",
          "name": "stdout",
          "text": [
            "[[8 0 6]\n",
            " [2 0 5]\n",
            " [9 7 7]] \n",
            "\n",
            "Minimo per riga: [0 0 7] \n",
            "Massimo per riga: [8 5 9]\n"
          ]
        }
      ],
      "source": [
        "print(b, '\\n')\n",
        "# print('Minimo per colonna:', np.amin(b, axis=0), '\\nMassimo per colonna:', np.amax(b, axis=0))\n",
        "print('Minimo per riga:', np.amin(b, axis=1), '\\nMassimo per riga:', np.amax(b, axis=1))"
      ]
    },
    {
      "cell_type": "markdown",
      "metadata": {
        "id": "biXuenCaC-kH"
      },
      "source": [
        "**Percentile e quantile**\n",
        "\n",
        "Per calcolare il percentile, gli step da seguire sono:\n",
        "\n",
        "1. Ordinare gli $n$ valori della distribuzione in ordine crescente.\n",
        "2. Se $p$ è il percentile in decimale, calcolare il prodotto $k = n \\cdot p$.\n",
        "3. Se $k$ è un intero, il percentile è dato dalla media tra il $k$-esimo ed il $k+1$-esimo valore dei dati ordinati.\n",
        "4. Se $k$ non è un intero, si arrotonda $k$ per eccesso al primo intero successivo, scegliendo il corrispondente valore dei dati ordinati.\n",
        "\n",
        "Facciamo un esempio."
      ]
    },
    {
      "cell_type": "code",
      "execution_count": 5,
      "metadata": {
        "id": "wz87g871C-kI",
        "outputId": "61e6bf1b-018c-451a-96ce-025470c74b53",
        "colab": {
          "base_uri": "https://localhost:8080/"
        }
      },
      "outputs": [
        {
          "output_type": "stream",
          "name": "stdout",
          "text": [
            "[71 78 51 12 83 45 50 37 18 92]\n"
          ]
        }
      ],
      "source": [
        "c = rng.integers(low=0, high=100, size=10)\n",
        "print(c)"
      ]
    },
    {
      "cell_type": "markdown",
      "metadata": {
        "id": "-9--xt04C-kI"
      },
      "source": [
        "Ordiniamo `c` usando `np.sort()`."
      ]
    },
    {
      "cell_type": "code",
      "execution_count": 6,
      "metadata": {
        "id": "2Aw0Rk9bC-kI",
        "outputId": "ab8cb3ab-2f4b-4d77-81a4-e8ec7ebefaad",
        "colab": {
          "base_uri": "https://localhost:8080/"
        }
      },
      "outputs": [
        {
          "output_type": "stream",
          "name": "stdout",
          "text": [
            "[12 18 37 45 50 51 71 78 83 92]\n"
          ]
        }
      ],
      "source": [
        "sorted_c = np.sort(c)\n",
        "print(sorted_c)"
      ]
    },
    {
      "cell_type": "markdown",
      "metadata": {
        "id": "PfGxnz5wC-kJ"
      },
      "source": [
        "Supponiamo di voler calcolare il $40$-percentile. Il valore di $k$ sarà dato da:"
      ]
    },
    {
      "cell_type": "code",
      "execution_count": 7,
      "metadata": {
        "id": "S5m2dWNGC-kJ",
        "outputId": "20ae9406-353a-4bba-9f37-459c70f52593",
        "colab": {
          "base_uri": "https://localhost:8080/"
        }
      },
      "outputs": [
        {
          "output_type": "stream",
          "name": "stdout",
          "text": [
            "4.0\n"
          ]
        }
      ],
      "source": [
        "k = len(sorted_c) * 0.40\n",
        "print(k)"
      ]
    },
    {
      "cell_type": "markdown",
      "metadata": {
        "id": "2TTMkDV0C-kJ"
      },
      "source": [
        "In questo caso, $k$ è un intero, per cui calcoliamo la media tra il $k$ ed il $k+1$-esimo elemento."
      ]
    },
    {
      "cell_type": "code",
      "execution_count": 8,
      "metadata": {
        "id": "r7cEpxPAC-kJ",
        "outputId": "aac1ca73-2aca-40b1-d0d2-f870b8d60a75",
        "colab": {
          "base_uri": "https://localhost:8080/"
        }
      },
      "outputs": [
        {
          "output_type": "stream",
          "name": "stdout",
          "text": [
            "47.5\n"
          ]
        }
      ],
      "source": [
        "k = round(k)\n",
        "perc = (sorted_c[k] + sorted_c[k-1])/2\n",
        "print(perc)"
      ]
    },
    {
      "cell_type": "markdown",
      "metadata": {
        "id": "0RPj6Y83C-kJ"
      },
      "source": [
        "Usando NumPy:"
      ]
    },
    {
      "cell_type": "code",
      "execution_count": 9,
      "metadata": {
        "id": "w54PasRlC-kJ",
        "outputId": "90929229-b607-4bf3-ed0c-aff69560d36b",
        "colab": {
          "base_uri": "https://localhost:8080/"
        }
      },
      "outputs": [
        {
          "output_type": "stream",
          "name": "stdout",
          "text": [
            "40-percentile di c: 48.0\n"
          ]
        }
      ],
      "source": [
        "print(f'40-percentile di c: {np.percentile(c, 40)}')"
      ]
    },
    {
      "cell_type": "markdown",
      "metadata": {
        "id": "8MC1u6_iC-kJ"
      },
      "source": [
        "Le funzioni `percentile` e `quantile` prevedono anche l'uso del parametro `axis`:"
      ]
    },
    {
      "cell_type": "code",
      "execution_count": 10,
      "metadata": {
        "id": "BeoOJCsXC-kK",
        "outputId": "b86bf6c4-ba41-47f0-bef6-e5adbfea91fd",
        "colab": {
          "base_uri": "https://localhost:8080/"
        }
      },
      "outputs": [
        {
          "output_type": "stream",
          "name": "stdout",
          "text": [
            "[[8 0 6]\n",
            " [2 0 5]\n",
            " [9 7 7]]\n",
            "50-quantile lungo le colonne di b:\n",
            " [8. 0. 6.]\n",
            "50-percentile lungo le righe di b:\n",
            " [[6.]\n",
            " [2.]\n",
            " [7.]]\n"
          ]
        }
      ],
      "source": [
        "print(b)\n",
        "print('50-quantile lungo le colonne di b:\\n', np.quantile(b, .5, axis=0))\n",
        "print('50-percentile lungo le righe di b:\\n', np.percentile(b, 50, axis=1, keepdims=True))"
      ]
    },
    {
      "cell_type": "markdown",
      "metadata": {
        "id": "PzRf0g2EC-kK"
      },
      "source": [
        "**Calcolo della media**\n",
        "\n",
        "Per calcolare la media **ponderata** ed **aritmetica** di un vettore:"
      ]
    },
    {
      "cell_type": "code",
      "execution_count": 11,
      "metadata": {
        "id": "fY9Ikw8GC-kK",
        "outputId": "480a8030-8b37-4249-eb2d-c3ea744c8213",
        "colab": {
          "base_uri": "https://localhost:8080/"
        }
      },
      "outputs": [
        {
          "output_type": "stream",
          "name": "stdout",
          "text": [
            "[0 7 6 4 4]\n",
            "Media ponderata di a: 4.2\n",
            "Media pesata di a: 4.1\n",
            "Media aritmetica di a: 4.2\n"
          ]
        }
      ],
      "source": [
        "print(a)\n",
        "print('Media ponderata di a:', np.average(a))\n",
        "print('Media pesata di a:', np.average(a, weights=[1, 1, 1, 2, 5]))\n",
        "print('Media aritmetica di a:', np.mean(a))"
      ]
    },
    {
      "cell_type": "markdown",
      "metadata": {
        "id": "pNcId36PC-kK"
      },
      "source": [
        "Possiamo calcolare la media lungo righe e colonne:"
      ]
    },
    {
      "cell_type": "code",
      "execution_count": 12,
      "metadata": {
        "id": "TAR-wdBiC-kK",
        "outputId": "f3681fab-cb18-454f-a90b-e5682e54a1a8",
        "colab": {
          "base_uri": "https://localhost:8080/"
        }
      },
      "outputs": [
        {
          "output_type": "stream",
          "name": "stdout",
          "text": [
            "[[8 0 6]\n",
            " [2 0 5]\n",
            " [9 7 7]]\n",
            "Media lungo le colonne di b:\n",
            " [6.33333333 2.33333333 6.        ]\n",
            "Media lungo le righe di b:\n",
            " [[4.66666667]\n",
            " [2.33333333]\n",
            " [7.66666667]]\n"
          ]
        }
      ],
      "source": [
        "print(b)\n",
        "print('Media lungo le colonne di b:\\n', np.mean(b, axis=0))\n",
        "print('Media lungo le righe di b:\\n', np.mean(b, axis=1, keepdims=True))"
      ]
    },
    {
      "cell_type": "markdown",
      "metadata": {
        "id": "ciD9-LCmC-kK"
      },
      "source": [
        "**Varianza e deviazione standard**\n",
        "\n",
        "Per calcolare la varianza e la deviazione standard di un vettore:"
      ]
    },
    {
      "cell_type": "code",
      "execution_count": 13,
      "metadata": {
        "id": "vzGvBMqSC-kK",
        "outputId": "c4e8a915-eccd-4410-f68e-ae46f2da9792",
        "colab": {
          "base_uri": "https://localhost:8080/"
        }
      },
      "outputs": [
        {
          "output_type": "stream",
          "name": "stdout",
          "text": [
            "Varianza di a: 5.76\n",
            "Deviazione standard di a: 2.4\n"
          ]
        }
      ],
      "source": [
        "print('Varianza di a:', np.var(a))\n",
        "print('Deviazione standard di a:', np.std(a))"
      ]
    },
    {
      "cell_type": "code",
      "execution_count": 13,
      "metadata": {
        "id": "9c32f_2uC-kK"
      },
      "outputs": [],
      "source": []
    }
  ],
  "metadata": {
    "kernelspec": {
      "display_name": "python-calcolo-numerico-3shughjH",
      "language": "python",
      "name": "python3"
    },
    "language_info": {
      "codemirror_mode": {
        "name": "ipython",
        "version": 3
      },
      "file_extension": ".py",
      "mimetype": "text/x-python",
      "name": "python",
      "nbconvert_exporter": "python",
      "pygments_lexer": "ipython3",
      "version": "3.9.13"
    },
    "orig_nbformat": 4,
    "vscode": {
      "interpreter": {
        "hash": "8b414f79017cbdc683bb44a5e152ec932dd1464a9aca0bdb881b548592158994"
      }
    },
    "colab": {
      "provenance": [],
      "include_colab_link": true
    }
  },
  "nbformat": 4,
  "nbformat_minor": 0
}