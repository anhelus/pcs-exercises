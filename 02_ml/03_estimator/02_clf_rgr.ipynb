{
 "cells": [
  {
   "cell_type": "code",
   "execution_count": 1,
   "metadata": {},
   "outputs": [],
   "source": [
    "from copy import deepcopy\n",
    "\n",
    "import seaborn as sns\n",
    "import matplotlib.pyplot as plt\n",
    "import numpy.typing as npt\n",
    "\n",
    "from sklearn.base import BaseEstimator\n",
    "from sklearn.datasets import load_iris, load_diabetes\n",
    "from sklearn.model_selection import train_test_split\n",
    "from sklearn.tree import DecisionTreeClassifier, DecisionTreeRegressor\n",
    "from sklearn.ensemble import RandomForestClassifier, RandomForestRegressor\n",
    "from sklearn.neural_network import MLPClassifier, MLPRegressor\n",
    "from sklearn.metrics import (\n",
    "    classification_report,\n",
    "    ConfusionMatrixDisplay,\n",
    "    mean_squared_error,\n",
    "    mean_absolute_percentage_error)\n",
    "from sklearn.preprocessing import OrdinalEncoder"
   ]
  },
  {
   "attachments": {},
   "cell_type": "markdown",
   "metadata": {},
   "source": [
    "**Comparazione tra diversi classificatori**\n",
    "\n",
    "In questa esercitazione, compareremo le performance di diversi classificatori sul dataset Iris.\n",
    "\n",
    "Per iniziare, definiamo la procedura `show_results`, che ci permette di mostrare a schermo il report di classificazione e la matrice di confusione ottenuta dall'algoritmo sui valori di test."
   ]
  },
  {
   "cell_type": "code",
   "execution_count": 2,
   "metadata": {},
   "outputs": [],
   "source": [
    "def show_results(\n",
    "        clf: BaseEstimator,\n",
    "        X_train: npt.ArrayLike,\n",
    "        X_test: npt.ArrayLike,\n",
    "        y_train: npt.ArrayLike,\n",
    "        y_test: npt.ArrayLike) -> None:\n",
    "    \"\"\" Utility per stampare i risultati di classificazione.\n",
    "\n",
    "    Argomenti:\n",
    "        clf: algoritmo di classificazione da testare\n",
    "        X_train: campioni di training\n",
    "        X_test: campioni di testing\n",
    "        y_train: label di training\n",
    "        y_test: label di testing\n",
    "    \"\"\"\n",
    "    clf.fit(X_train, y_train)\n",
    "    y_pred = clf.predict(X_test)\n",
    "    print(classification_report(y_test, y_pred))\n",
    "    ConfusionMatrixDisplay.from_predictions(y_test, y_pred)\n",
    "    plt.show()"
   ]
  },
  {
   "attachments": {},
   "cell_type": "markdown",
   "metadata": {},
   "source": [
    "Creiamo i dataset di training e di testing usando il metodo [`train_test_split`](http://scikit-learn.org/stable/modules/generated/sklearn.model_selection.train_test_split.html), e valutiamo ogni singolo metodo."
   ]
  },
  {
   "cell_type": "code",
   "execution_count": 3,
   "metadata": {},
   "outputs": [],
   "source": [
    "X, y = load_iris(return_X_y=True)\n",
    "X_train, X_test, y_train, y_test = train_test_split(X, y)"
   ]
  },
  {
   "cell_type": "code",
   "execution_count": 4,
   "metadata": {},
   "outputs": [
    {
     "name": "stdout",
     "output_type": "stream",
     "text": [
      "              precision    recall  f1-score   support\n",
      "\n",
      "           0       1.00      1.00      1.00         9\n",
      "           1       0.82      0.82      0.82        17\n",
      "           2       0.75      0.75      0.75        12\n",
      "\n",
      "    accuracy                           0.84        38\n",
      "   macro avg       0.86      0.86      0.86        38\n",
      "weighted avg       0.84      0.84      0.84        38\n",
      "\n"
     ]
    },
    {
     "data": {
      "image/png": "[encoded data removed]",
      "text/plain": [
       "<Figure size 640x480 with 2 Axes>"
      ]
     },
     "metadata": {},
     "output_type": "display_data"
    }
   ],
   "source": [
    "show_results(DecisionTreeClassifier(), X_train, X_test, y_train, y_test)"
   ]
  },
  {
   "cell_type": "code",
   "execution_count": 5,
   "metadata": {},
   "outputs": [
    {
     "name": "stdout",
     "output_type": "stream",
     "text": [
      "              precision    recall  f1-score   support\n",
      "\n",
      "           0       1.00      1.00      1.00         9\n",
      "           1       0.83      0.88      0.86        17\n",
      "           2       0.82      0.75      0.78        12\n",
      "\n",
      "    accuracy                           0.87        38\n",
      "   macro avg       0.88      0.88      0.88        38\n",
      "weighted avg       0.87      0.87      0.87        38\n",
      "\n"
     ]
    },
    {
     "data": {
      "image/png": "[encoded data removed]",
      "text/plain": [
       "<Figure size 640x480 with 2 Axes>"
      ]
     },
     "metadata": {},
     "output_type": "display_data"
    }
   ],
   "source": [
    "show_results(RandomForestClassifier(), X_train, X_test, y_train, y_test)"
   ]
  },
  {
   "cell_type": "code",
   "execution_count": 6,
   "metadata": {},
   "outputs": [
    {
     "name": "stdout",
     "output_type": "stream",
     "text": [
      "              precision    recall  f1-score   support\n",
      "\n",
      "           0       1.00      1.00      1.00         9\n",
      "           1       1.00      0.82      0.90        17\n",
      "           2       0.80      1.00      0.89        12\n",
      "\n",
      "    accuracy                           0.92        38\n",
      "   macro avg       0.93      0.94      0.93        38\n",
      "weighted avg       0.94      0.92      0.92        38\n",
      "\n"
     ]
    },
    {
     "name": "stderr",
     "output_type": "stream",
     "text": [
      "c:\\Users\\acard\\.virtualenvs\\pcs-exercises-4jw-2ggn\\lib\\site-packages\\sklearn\\neural_network\\_multilayer_perceptron.py:686: ConvergenceWarning: Stochastic Optimizer: Maximum iterations (200) reached and the optimization hasn't converged yet.\n",
      "  warnings.warn(\n"
     ]
    },
    {
     "data": {
      "image/png": "[encoded data removed]",
      "text/plain": [
       "<Figure size 640x480 with 2 Axes>"
      ]
     },
     "metadata": {},
     "output_type": "display_data"
    }
   ],
   "source": [
    "show_results(MLPClassifier(), X_train, X_test, y_train, y_test)"
   ]
  },
  {
   "attachments": {},
   "cell_type": "markdown",
   "metadata": {},
   "source": [
    "I risultati sono comparabili (ed egualmente soddisfacenti) per ciascuno degli algoritmi considerati. Di conseguenza, in casi così semplici, ognuno degli algoritmi considerati può essere utilizzato con efficacia, e la scelta dovrebbe ricadere sul meno complesso dal punto di vista computazionale che, in questo caso specifico, è plausibilmente l'albero decisionale.\n",
    "\n",
    "Proviamo adesso ad utilizzare un albero decisionale come regressore, agendo sempre sul dataset Tips."
   ]
  },
  {
   "cell_type": "code",
   "execution_count": 7,
   "metadata": {},
   "outputs": [],
   "source": [
    "tips = sns.load_dataset('tips')"
   ]
  },
  {
   "attachments": {},
   "cell_type": "markdown",
   "metadata": {},
   "source": [
    "Proviamo ad usare il classificatore come regressore, andando ad utilizzare la variabile `total_bill` come variabile di regressione. Utilizziamo inoltre un `OrdinalEncoder` per codificare i valori categorici presenti nel dataset."
   ]
  },
  {
   "cell_type": "code",
   "execution_count": 8,
   "metadata": {},
   "outputs": [],
   "source": [
    "tips_rgr = deepcopy(tips)\n",
    "y = tips_rgr.pop('total_bill')\n",
    "X = tips_rgr.values\n",
    "enc = OrdinalEncoder()\n",
    "X = enc.fit_transform(X)"
   ]
  },
  {
   "attachments": {},
   "cell_type": "markdown",
   "metadata": {},
   "source": [
    "Calcoliamo quindi l'MSE ottenuto dal regressore sugli ultimi dieci campioni."
   ]
  },
  {
   "cell_type": "code",
   "execution_count": 9,
   "metadata": {},
   "outputs": [
    {
     "data": {
      "text/plain": [
       "98.33214"
      ]
     },
     "execution_count": 9,
     "metadata": {},
     "output_type": "execute_result"
    }
   ],
   "source": [
    "rgr = DecisionTreeRegressor()\n",
    "rgr.fit(X[:-10], y[:-10])\n",
    "y_pred = rgr.predict(X[-10:])\n",
    "\n",
    "mean_squared_error(y[-10:], y_pred)"
   ]
  },
  {
   "cell_type": "code",
   "execution_count": 10,
   "metadata": {},
   "outputs": [],
   "source": [
    "def print_pred(est, X, y, random_state=42):\n",
    "    X, y = load_diabetes(return_X_y=True)\n",
    "    X_train, X_test, y_train, y_test = train_test_split(X, y, random_state=random_state)\n",
    "    est.fit(X_train, y_train)\n",
    "    y_pred = est.predict(X_test)\n",
    "    print(f'MSE: {round(mean_squared_error(y_test, y_pred), 2)}')\n",
    "    print(f'MAPE: {round(mean_absolute_percentage_error(y_test, y_pred), 2)}')    "
   ]
  },
  {
   "cell_type": "code",
   "execution_count": 11,
   "metadata": {},
   "outputs": [
    {
     "name": "stdout",
     "output_type": "stream",
     "text": [
      "MSE: 5983.73\n",
      "MAPE: 0.52\n"
     ]
    }
   ],
   "source": [
    "print_pred(DecisionTreeRegressor(), X, y)"
   ]
  },
  {
   "cell_type": "code",
   "execution_count": 12,
   "metadata": {},
   "outputs": [
    {
     "name": "stdout",
     "output_type": "stream",
     "text": [
      "MSE: 2861.56\n",
      "MAPE: 0.39\n"
     ]
    }
   ],
   "source": [
    "print_pred(RandomForestRegressor(), X, y)"
   ]
  },
  {
   "cell_type": "code",
   "execution_count": 13,
   "metadata": {},
   "outputs": [
    {
     "name": "stdout",
     "output_type": "stream",
     "text": [
      "MSE: 25436.98\n",
      "MAPE: 0.96\n"
     ]
    },
    {
     "name": "stderr",
     "output_type": "stream",
     "text": [
      "c:\\Users\\acard\\.virtualenvs\\pcs-exercises-4jw-2ggn\\lib\\site-packages\\sklearn\\neural_network\\_multilayer_perceptron.py:686: ConvergenceWarning: Stochastic Optimizer: Maximum iterations (100) reached and the optimization hasn't converged yet.\n",
      "  warnings.warn(\n"
     ]
    }
   ],
   "source": [
    "print_pred(MLPRegressor(max_iter=100), X, y)"
   ]
  },
  {
   "cell_type": "code",
   "execution_count": 14,
   "metadata": {},
   "outputs": [
    {
     "name": "stdout",
     "output_type": "stream",
     "text": [
      "MSE: 3226.93\n",
      "MAPE: 0.44\n"
     ]
    },
    {
     "name": "stderr",
     "output_type": "stream",
     "text": [
      "c:\\Users\\acard\\.virtualenvs\\pcs-exercises-4jw-2ggn\\lib\\site-packages\\sklearn\\neural_network\\_multilayer_perceptron.py:686: ConvergenceWarning: Stochastic Optimizer: Maximum iterations (1000) reached and the optimization hasn't converged yet.\n",
      "  warnings.warn(\n"
     ]
    }
   ],
   "source": [
    "print_pred(MLPRegressor(max_iter=1000), X, y)"
   ]
  },
  {
   "cell_type": "code",
   "execution_count": 15,
   "metadata": {},
   "outputs": [
    {
     "data": {
      "text/plain": [
       "(442, 10)"
      ]
     },
     "execution_count": 15,
     "metadata": {},
     "output_type": "execute_result"
    }
   ],
   "source": [
    "X, y = load_diabetes(return_X_y=True)\n",
    "X.shape"
   ]
  },
  {
   "cell_type": "code",
   "execution_count": null,
   "metadata": {},
   "outputs": [],
   "source": []
  }
 ],
 "metadata": {
  "kernelspec": {
   "display_name": "pcs-exercises-4jw-2ggn",
   "language": "python",
   "name": "python3"
  },
  "language_info": {
   "codemirror_mode": {
    "name": "ipython",
    "version": 3
   },
   "file_extension": ".py",
   "mimetype": "text/x-python",
   "name": "python",
   "nbconvert_exporter": "python",
   "pygments_lexer": "ipython3",
   "version": "3.10.10"
  },
  "orig_nbformat": 4
 },
 "nbformat": 4,
 "nbformat_minor": 2
}
