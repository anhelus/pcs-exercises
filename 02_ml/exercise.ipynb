{
 "cells": [
  {
   "attachments": {},
   "cell_type": "markdown",
   "metadata": {},
   "source": [
    "**Esercizio 4.1**"
   ]
  },
  {
   "cell_type": "code",
   "execution_count": null,
   "metadata": {},
   "outputs": [],
   "source": [
    "import seaborn as sns\n",
    "from sklearn.tree import DecisionTreeClassifier, DecisionTreeRegressor\n",
    "from copy import deepcopy"
   ]
  },
  {
   "cell_type": "code",
   "execution_count": null,
   "metadata": {},
   "outputs": [],
   "source": [
    "tips = sns.load_dataset('tips')"
   ]
  },
  {
   "attachments": {},
   "cell_type": "markdown",
   "metadata": {},
   "source": [
    "Classificazione"
   ]
  },
  {
   "cell_type": "code",
   "execution_count": null,
   "metadata": {},
   "outputs": [],
   "source": [
    "tips_clf = deepcopy(tips)\n",
    "y = tips_clf.pop('smoker')\n",
    "X = tips_clf.values\n",
    "\n",
    "clf = DecisionTreeClassifier()\n",
    "clf.fit(X[:, :-10])\n",
    "y_clf_pred = clf.predict(X[-10:])\n",
    "\n",
    "print(y[-10:])\n",
    "print(y_clf_pred)"
   ]
  },
  {
   "attachments": {},
   "cell_type": "markdown",
   "metadata": {},
   "source": [
    "Regressione"
   ]
  },
  {
   "cell_type": "code",
   "execution_count": null,
   "metadata": {},
   "outputs": [],
   "source": [
    "tips_rgr = deepcopy(tips)\n",
    "y = tips_rgr.pop('total_bill')\n",
    "X = tips_rgr.values\n",
    "\n",
    "rgr = DecisionTreeRegressor()\n",
    "rgr.fit(X[:, :-10])\n",
    "y_pred = rgr.predict(X[-10:])\n",
    "\n",
    "print(y[-10:])\n",
    "print(y_pred)"
   ]
  }
 ],
 "metadata": {
  "language_info": {
   "name": "python"
  },
  "orig_nbformat": 4
 },
 "nbformat": 4,
 "nbformat_minor": 2
}
