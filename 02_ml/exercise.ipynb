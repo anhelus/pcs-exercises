{
 "cells": [
  {
   "attachments": {},
   "cell_type": "markdown",
   "metadata": {},
   "source": [
    "**Esercizio 5.1**\n",
    "\n",
    "Partiamo importando i package necessari."
   ]
  },
  {
   "cell_type": "code",
   "execution_count": 27,
   "metadata": {},
   "outputs": [],
   "source": [
    "import seaborn as sns\n",
    "from sklearn.tree import DecisionTreeClassifier, DecisionTreeRegressor\n",
    "from sklearn.metrics import mean_squared_error, accuracy_score\n",
    "from sklearn.preprocessing import OrdinalEncoder\n",
    "from copy import deepcopy"
   ]
  },
  {
   "attachments": {},
   "cell_type": "markdown",
   "metadata": {},
   "source": [
    "Leggiamo il dataset."
   ]
  },
  {
   "cell_type": "code",
   "execution_count": 28,
   "metadata": {},
   "outputs": [],
   "source": [
    "tips = sns.load_dataset('tips')"
   ]
  },
  {
   "attachments": {},
   "cell_type": "markdown",
   "metadata": {},
   "source": [
    "Effettuiamo la classificazione. In breve:\n",
    "\n",
    "* copiamo il dataset in una variabile ausiliaria;\n",
    "* estraiamo le label con la funzione `pop()`;\n",
    "* estraiamo i campioni;\n",
    "* convertiamo le variabili categoriche in variabili numeriche;\n",
    "* effettuiamo la classificazione;\n",
    "* misuriamo l'accuratezza."
   ]
  },
  {
   "cell_type": "code",
   "execution_count": 29,
   "metadata": {},
   "outputs": [
    {
     "data": {
      "text/plain": [
       "0.4"
      ]
     },
     "execution_count": 29,
     "metadata": {},
     "output_type": "execute_result"
    }
   ],
   "source": [
    "# creazione di una copia\n",
    "tips_clf = deepcopy(tips)\n",
    "# estrazione di label e dati\n",
    "y = tips_clf.pop('smoker')\n",
    "X = tips_clf.values\n",
    "# conversione variabili categoriche in numeriche\n",
    "enc = OrdinalEncoder()\n",
    "X = enc.fit_transform(X)\n",
    "# fitting del classificatore\n",
    "clf = DecisionTreeClassifier()\n",
    "clf.fit(X[:-10], y[:-10])\n",
    "y_clf_pred = clf.predict(X[-10:])\n",
    "# calcolo dell'accuracy\n",
    "accuracy_score(y[-10:], y_clf_pred)"
   ]
  },
  {
   "attachments": {},
   "cell_type": "markdown",
   "metadata": {},
   "source": [
    "La regressione funziona allo stesso modo. In questo caso, però, andremo a calcolare l'errore quadratico medio."
   ]
  },
  {
   "cell_type": "code",
   "execution_count": 30,
   "metadata": {},
   "outputs": [
    {
     "data": {
      "text/plain": [
       "101.93274999999998"
      ]
     },
     "execution_count": 30,
     "metadata": {},
     "output_type": "execute_result"
    }
   ],
   "source": [
    "tips_rgr = deepcopy(tips)\n",
    "y = tips_rgr.pop('total_bill')\n",
    "X = tips_rgr.values\n",
    "enc = OrdinalEncoder()\n",
    "X = enc.fit_transform(X)\n",
    "\n",
    "rgr = DecisionTreeRegressor()\n",
    "rgr.fit(X[:-10], y[:-10])\n",
    "y_pred = rgr.predict(X[-10:])\n",
    "\n",
    "mean_squared_error(y[-10:], y_pred)"
   ]
  },
  {
   "cell_type": "code",
   "execution_count": null,
   "metadata": {},
   "outputs": [],
   "source": []
  }
 ],
 "metadata": {
  "kernelspec": {
   "display_name": "Python 3",
   "language": "python",
   "name": "python3"
  },
  "language_info": {
   "codemirror_mode": {
    "name": "ipython",
    "version": 3
   },
   "file_extension": ".py",
   "mimetype": "text/x-python",
   "name": "python",
   "nbconvert_exporter": "python",
   "pygments_lexer": "ipython3",
   "version": "3.10.10"
  },
  "orig_nbformat": 4
 },
 "nbformat": 4,
 "nbformat_minor": 2
}
