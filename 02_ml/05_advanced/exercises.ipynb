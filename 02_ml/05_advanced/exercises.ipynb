{
 "cells": [
  {
   "cell_type": "code",
   "execution_count": 10,
   "metadata": {},
   "outputs": [],
   "source": [
    "import warnings\n",
    "import pandas as pd\n",
    "import seaborn as sns\n",
    "from sklearn.cluster import KMeans\n",
    "from sklearn.compose import ColumnTransformer\n",
    "from sklearn.feature_selection import VarianceThreshold\n",
    "from sklearn.impute import SimpleImputer\n",
    "from sklearn.metrics import adjusted_rand_score, silhouette_score\n",
    "from sklearn.model_selection import GridSearchCV\n",
    "from sklearn.pipeline import Pipeline\n",
    "from sklearn.preprocessing import MinMaxScaler, OrdinalEncoder"
   ]
  },
  {
   "cell_type": "code",
   "execution_count": 11,
   "metadata": {},
   "outputs": [],
   "source": [
    "tips = sns.load_dataset('tips')\n",
    "X = tips.loc[:, ('total_bill', 'tip')]\n",
    "y = tips.loc[:, ('day')]"
   ]
  },
  {
   "attachments": {},
   "cell_type": "markdown",
   "metadata": {},
   "source": [
    "**Esercizio 4.5.1**"
   ]
  },
  {
   "cell_type": "code",
   "execution_count": 12,
   "metadata": {},
   "outputs": [
    {
     "name": "stdout",
     "output_type": "stream",
     "text": [
      "ARI con n_clusters=8: 0.00157\n",
      "ARI con n_clusters=5: 0.00397\n"
     ]
    }
   ],
   "source": [
    "# Esercizio E22.1\n",
    "pipe = Pipeline(steps=[\n",
    "    ('scaler', MinMaxScaler()),\n",
    "    ('kmeans', KMeans(n_init='auto'))\n",
    "])\n",
    "y_pred = pipe.fit_predict(X)\n",
    "print(f'ARI con n_clusters=8: {round(adjusted_rand_score(y, y_pred), 5)}')\n",
    "\n",
    "pipe.set_params(kmeans__n_clusters=5)\n",
    "y_pred = pipe.fit_predict(X)\n",
    "print(f'ARI con n_clusters=5: {round(adjusted_rand_score(y, y_pred), 5)}')"
   ]
  },
  {
   "attachments": {},
   "cell_type": "markdown",
   "metadata": {},
   "source": [
    "**Esercizio 4.5.2**"
   ]
  },
  {
   "cell_type": "code",
   "execution_count": 17,
   "metadata": {},
   "outputs": [
    {
     "data": {
      "text/plain": [
       "array([1, 4, 5, 3, 1, 1, 3, 1, 5, 7, 5, 3, 1, 1, 5, 2, 1, 6, 5, 7, 6, 6,\n",
       "       7, 3, 5, 5, 0, 3, 7, 1, 0, 4, 7, 6, 0, 3, 7, 1, 5, 7, 5, 2, 0, 7,\n",
       "       7, 1, 1, 7, 0, 5, 1, 1, 4, 2, 0, 3, 2, 0, 2, 1, 0, 3, 3, 1, 0, 7,\n",
       "       2, 1, 5, 1, 6, 5, 6, 0, 1, 1, 1, 1, 6, 5, 1, 1, 7, 3, 2, 5, 1, 1,\n",
       "       3, 1, 1, 1, 3, 1, 1, 1, 0, 4, 2, 6, 5, 1, 3, 1, 1, 1, 5, 1, 1, 7,\n",
       "       3, 7, 1, 5, 7, 1, 1, 6, 0, 5, 6, 1, 0, 2, 3, 7, 1, 1, 7, 1, 0, 1,\n",
       "       5, 2, 6, 0, 3, 3, 1, 0, 7, 5, 5, 1, 6, 6, 1, 5, 6, 6, 6, 3, 1, 1,\n",
       "       1, 0, 7, 1, 1, 1, 1, 2, 1, 1, 1, 1, 3, 5, 3, 1, 3, 1, 5, 1, 0, 1,\n",
       "       1, 4, 6, 1, 5, 0, 1, 6, 5, 3, 7, 3, 1, 1, 2, 6, 5, 6, 4, 4, 1, 1,\n",
       "       7, 2, 1, 1, 1, 0, 1, 5, 1, 7, 7, 4, 1, 2, 1, 6, 1, 4, 5, 6, 4, 6,\n",
       "       1, 6, 1, 1, 3, 1, 6, 1, 6, 5, 3, 1, 6, 5, 6, 5, 6, 2, 6, 6, 7, 7,\n",
       "       6, 1, 0, 3, 5, 2, 3, 6, 1, 5, 3, 1, 5, 7, 4, 3, 4, 2, 1, 1, 3, 3,\n",
       "       5, 6, 1, 1, 3, 3, 3, 1, 2, 0, 7, 3, 5, 6, 1, 5, 1, 1, 1, 1, 3, 0,\n",
       "       1, 1, 6, 7, 3, 4, 0, 5, 1, 0, 0, 3, 3, 4, 7, 7, 1, 2, 1, 3, 4, 4,\n",
       "       0, 4, 4, 4, 2, 1, 6, 5, 2, 6, 3, 4, 1, 1, 2, 2, 1, 4, 1, 2, 5, 4,\n",
       "       7, 3, 3, 1, 3, 1, 3, 4, 1, 3, 6, 3, 6, 6, 6, 2, 2, 5, 1, 1, 1, 3,\n",
       "       0, 1, 0, 1, 3, 2, 7, 7, 1, 0, 7, 1, 1, 1, 4, 7, 7, 4, 4, 1, 1, 0,\n",
       "       5, 4, 5, 0, 0, 1, 4, 7, 1, 3, 1, 6, 1, 2, 1, 7, 3, 1, 1, 4, 5, 1,\n",
       "       5, 6, 6, 2, 1, 1, 5, 1, 5, 6, 1, 6, 1, 5, 1, 1, 4, 6, 1, 5, 2, 2,\n",
       "       6, 5, 0, 1, 1, 5, 1, 1, 2, 2, 1, 1, 3, 5, 2, 1, 3, 3, 5, 2, 3, 6,\n",
       "       2, 1, 1, 2, 1, 3, 2, 3, 7, 3, 6, 1, 0, 4, 1, 7, 3, 3, 2, 1, 3, 1,\n",
       "       3, 6, 1, 1, 6, 3, 1, 7, 1, 1, 2, 7, 5, 3, 6, 1, 1, 5, 1, 6, 1, 5,\n",
       "       4, 5, 3, 0, 1, 1, 1, 1, 3, 0, 1, 0, 4, 1, 3, 1, 1, 5, 5, 5, 3, 0,\n",
       "       2, 3, 1, 1, 7, 1, 3, 4, 1, 3, 2, 1, 2, 1, 3, 1, 0, 4, 0, 1, 2, 3,\n",
       "       1, 6, 2, 0, 0, 7, 5, 2, 3, 4, 1, 4, 3, 5, 5, 6, 0, 3, 2, 0, 1, 6,\n",
       "       4, 6, 1, 7, 5, 3, 4, 0, 3, 5, 1, 1, 6, 1, 5, 1, 1, 5, 0, 1, 6, 3,\n",
       "       3, 7, 1, 1, 2, 3, 7, 1, 2, 4, 6, 0, 0, 3, 6, 4, 1, 1, 1, 4, 1, 5,\n",
       "       6, 1, 2, 1, 0, 4, 2, 1, 3, 1, 4, 1, 1, 3, 7, 3, 5, 1, 7, 1, 1, 2,\n",
       "       1, 5, 2, 6, 0, 3, 7, 1, 1, 3, 0, 3, 1, 1, 3, 1, 4, 3, 5, 2, 1, 6,\n",
       "       5, 1, 1, 4, 5, 1, 7, 4, 1, 4, 1, 5, 1, 2, 1, 7, 5, 6, 1, 5, 6, 0,\n",
       "       3, 0, 3, 1, 1, 6, 6, 1, 1, 3, 2, 3, 6, 6, 6, 1, 1, 5, 5, 4, 5, 4,\n",
       "       1, 1, 6, 0, 1, 1, 1, 3, 3, 7, 1, 0, 3, 6, 1, 7, 0, 1, 4, 3, 7, 1,\n",
       "       1, 6, 2, 3, 3, 7, 4, 3, 3, 1, 6, 1, 4, 2, 1, 1, 2, 1, 6, 6, 3, 1,\n",
       "       2, 7, 6, 5, 3, 0, 6, 6, 6, 1, 5, 4, 1, 1, 3, 3, 4, 1, 1, 3, 1, 2,\n",
       "       3, 1, 2, 1, 1, 1, 2, 6, 1, 6, 1, 3, 1, 1, 7, 3, 1, 3, 0, 5, 1, 1,\n",
       "       1, 1, 2, 0, 2, 1, 1, 5, 1, 3, 7, 3, 3, 1, 1, 1, 5, 1, 1, 0, 1, 6,\n",
       "       5, 0, 1, 6, 3, 5, 0, 5, 6, 2, 3, 7, 1, 1, 3, 5, 6, 3, 1, 1, 6, 5,\n",
       "       1, 3, 5, 0, 1, 1, 3, 1, 3, 5, 1, 1, 1, 0, 7, 3, 7, 6, 0, 1, 1, 4,\n",
       "       1, 1, 1, 4, 1, 6, 4, 0, 1, 1, 1, 0, 6, 4, 1, 1, 7, 3, 2, 5, 3, 3,\n",
       "       7, 0, 1, 6, 3, 5, 6, 2, 7, 3, 1, 1, 1, 3, 3, 1, 7, 7, 1, 1, 1, 4,\n",
       "       2, 1, 5, 6, 1, 5, 6, 3, 5, 4, 1])"
      ]
     },
     "execution_count": 17,
     "metadata": {},
     "output_type": "execute_result"
    }
   ],
   "source": [
    "titanic = sns.load_dataset('titanic')\n",
    "\n",
    "numerical_transformer = Pipeline([\n",
    "    ('imputer', SimpleImputer()),\n",
    "    ('scaler', MinMaxScaler())\n",
    "])\n",
    "\n",
    "categorical_transformer = Pipeline([\n",
    "    ('scaler', OrdinalEncoder()),\n",
    "    ('imputer', SimpleImputer())\n",
    "])\n",
    "\n",
    "ct = ColumnTransformer(\n",
    "    [('num_transf', numerical_transformer, ['age', 'fare']),\n",
    "    ('cat_transf', categorical_transformer, ['survived', 'pclass', 'sex', 'embarked'])],\n",
    "    remainder='drop'\n",
    ")\n",
    "\n",
    "complex_pipe = Pipeline([\n",
    "    ('transformer', ct),\n",
    "    ('kmeans', KMeans(n_init='auto'))\n",
    "])\n",
    "\n",
    "labels = complex_pipe.fit_predict(titanic)"
   ]
  },
  {
   "attachments": {},
   "cell_type": "markdown",
   "metadata": {},
   "source": [
    "**Esercizio 4.5.3**"
   ]
  },
  {
   "cell_type": "code",
   "execution_count": 15,
   "metadata": {},
   "outputs": [
    {
     "name": "stderr",
     "output_type": "stream",
     "text": [
      "c:\\Users\\Angelo\\.virtualenvs\\pcs-exercises-v7kX8Rwt\\lib\\site-packages\\sklearn\\model_selection\\_search.py:952: UserWarning: One or more of the test scores are non-finite: [nan nan nan nan nan nan nan nan nan nan nan nan]\n",
      "  warnings.warn(\n"
     ]
    }
   ],
   "source": [
    "param_grid_pipe = {\n",
    "    'kmeans__n_clusters': list(range(3, 9)),\n",
    "    'kmeans__algorithm': ['lloyd', 'elkan']\n",
    "}\n",
    "search = GridSearchCV(\n",
    "    pipe,\n",
    "    param_grid_pipe,\n",
    "    scoring='adjusted_rand_score',\n",
    "    n_jobs=-1,\n",
    "    cv=10).fit(X.values)"
   ]
  },
  {
   "attachments": {},
   "cell_type": "markdown",
   "metadata": {},
   "source": [
    "**Esercizio 4.5.4**"
   ]
  },
  {
   "cell_type": "code",
   "execution_count": 16,
   "metadata": {},
   "outputs": [
    {
     "name": "stderr",
     "output_type": "stream",
     "text": [
      "c:\\Users\\Angelo\\.virtualenvs\\pcs-exercises-v7kX8Rwt\\lib\\site-packages\\sklearn\\model_selection\\_validation.py:378: FitFailedWarning: \n",
      "60 fits failed out of a total of 120.\n",
      "The score on these train-test partitions for these parameters will be set to nan.\n",
      "If these failures are not expected, you can try to debug them by setting error_score='raise'.\n",
      "\n",
      "Below are more details about the failures:\n",
      "--------------------------------------------------------------------------------\n",
      "60 fits failed with the following error:\n",
      "Traceback (most recent call last):\n",
      "  File \"c:\\Users\\Angelo\\.virtualenvs\\pcs-exercises-v7kX8Rwt\\lib\\site-packages\\sklearn\\model_selection\\_validation.py\", line 684, in _fit_and_score\n",
      "    estimator.fit(X_train, **fit_params)\n",
      "  File \"c:\\Users\\Angelo\\.virtualenvs\\pcs-exercises-v7kX8Rwt\\lib\\site-packages\\sklearn\\pipeline.py\", line 401, in fit\n",
      "    Xt = self._fit(X, y, **fit_params_steps)\n",
      "  File \"c:\\Users\\Angelo\\.virtualenvs\\pcs-exercises-v7kX8Rwt\\lib\\site-packages\\sklearn\\pipeline.py\", line 359, in _fit\n",
      "    X, fitted_transformer = fit_transform_one_cached(\n",
      "  File \"c:\\Users\\Angelo\\.virtualenvs\\pcs-exercises-v7kX8Rwt\\lib\\site-packages\\joblib\\memory.py\", line 349, in __call__\n",
      "    return self.func(*args, **kwargs)\n",
      "  File \"c:\\Users\\Angelo\\.virtualenvs\\pcs-exercises-v7kX8Rwt\\lib\\site-packages\\sklearn\\pipeline.py\", line 893, in _fit_transform_one\n",
      "    res = transformer.fit_transform(X, y, **fit_params)\n",
      "  File \"c:\\Users\\Angelo\\.virtualenvs\\pcs-exercises-v7kX8Rwt\\lib\\site-packages\\sklearn\\utils\\_set_output.py\", line 140, in wrapped\n",
      "    data_to_wrap = f(self, X, *args, **kwargs)\n",
      "  File \"c:\\Users\\Angelo\\.virtualenvs\\pcs-exercises-v7kX8Rwt\\lib\\site-packages\\sklearn\\compose\\_column_transformer.py\", line 727, in fit_transform\n",
      "    result = self._fit_transform(X, y, _fit_transform_one)\n",
      "  File \"c:\\Users\\Angelo\\.virtualenvs\\pcs-exercises-v7kX8Rwt\\lib\\site-packages\\sklearn\\compose\\_column_transformer.py\", line 658, in _fit_transform\n",
      "    return Parallel(n_jobs=self.n_jobs)(\n",
      "  File \"c:\\Users\\Angelo\\.virtualenvs\\pcs-exercises-v7kX8Rwt\\lib\\site-packages\\sklearn\\utils\\parallel.py\", line 63, in __call__\n",
      "    return super().__call__(iterable_with_config)\n",
      "  File \"c:\\Users\\Angelo\\.virtualenvs\\pcs-exercises-v7kX8Rwt\\lib\\site-packages\\joblib\\parallel.py\", line 1085, in __call__\n",
      "    if self.dispatch_one_batch(iterator):\n",
      "  File \"c:\\Users\\Angelo\\.virtualenvs\\pcs-exercises-v7kX8Rwt\\lib\\site-packages\\joblib\\parallel.py\", line 901, in dispatch_one_batch\n",
      "    self._dispatch(tasks)\n",
      "  File \"c:\\Users\\Angelo\\.virtualenvs\\pcs-exercises-v7kX8Rwt\\lib\\site-packages\\joblib\\parallel.py\", line 819, in _dispatch\n",
      "    job = self._backend.apply_async(batch, callback=cb)\n",
      "  File \"c:\\Users\\Angelo\\.virtualenvs\\pcs-exercises-v7kX8Rwt\\lib\\site-packages\\joblib\\_parallel_backends.py\", line 208, in apply_async\n",
      "    result = ImmediateResult(func)\n",
      "  File \"c:\\Users\\Angelo\\.virtualenvs\\pcs-exercises-v7kX8Rwt\\lib\\site-packages\\joblib\\_parallel_backends.py\", line 597, in __init__\n",
      "    self.results = batch()\n",
      "  File \"c:\\Users\\Angelo\\.virtualenvs\\pcs-exercises-v7kX8Rwt\\lib\\site-packages\\joblib\\parallel.py\", line 288, in __call__\n",
      "    return [func(*args, **kwargs)\n",
      "  File \"c:\\Users\\Angelo\\.virtualenvs\\pcs-exercises-v7kX8Rwt\\lib\\site-packages\\joblib\\parallel.py\", line 288, in <listcomp>\n",
      "    return [func(*args, **kwargs)\n",
      "  File \"c:\\Users\\Angelo\\.virtualenvs\\pcs-exercises-v7kX8Rwt\\lib\\site-packages\\sklearn\\utils\\parallel.py\", line 123, in __call__\n",
      "    return self.function(*args, **kwargs)\n",
      "  File \"c:\\Users\\Angelo\\.virtualenvs\\pcs-exercises-v7kX8Rwt\\lib\\site-packages\\sklearn\\pipeline.py\", line 893, in _fit_transform_one\n",
      "    res = transformer.fit_transform(X, y, **fit_params)\n",
      "  File \"c:\\Users\\Angelo\\.virtualenvs\\pcs-exercises-v7kX8Rwt\\lib\\site-packages\\sklearn\\pipeline.py\", line 445, in fit_transform\n",
      "    return last_step.fit_transform(Xt, y, **fit_params_last_step)\n",
      "  File \"c:\\Users\\Angelo\\.virtualenvs\\pcs-exercises-v7kX8Rwt\\lib\\site-packages\\sklearn\\utils\\_set_output.py\", line 140, in wrapped\n",
      "    data_to_wrap = f(self, X, *args, **kwargs)\n",
      "  File \"c:\\Users\\Angelo\\.virtualenvs\\pcs-exercises-v7kX8Rwt\\lib\\site-packages\\sklearn\\base.py\", line 878, in fit_transform\n",
      "    return self.fit(X, **fit_params).transform(X)\n",
      "  File \"c:\\Users\\Angelo\\.virtualenvs\\pcs-exercises-v7kX8Rwt\\lib\\site-packages\\sklearn\\feature_selection\\_variance_threshold.py\", line 125, in fit\n",
      "    raise ValueError(msg.format(self.threshold))\n",
      "ValueError: No feature in X meets the variance threshold 0.05000\n",
      "\n",
      "  warnings.warn(some_fits_failed_message, FitFailedWarning)\n",
      "c:\\Users\\Angelo\\.virtualenvs\\pcs-exercises-v7kX8Rwt\\lib\\site-packages\\sklearn\\model_selection\\_search.py:952: UserWarning: One or more of the test scores are non-finite: [nan nan nan nan nan nan nan nan nan nan nan nan]\n",
      "  warnings.warn(\n",
      "c:\\Users\\Angelo\\.virtualenvs\\pcs-exercises-v7kX8Rwt\\lib\\site-packages\\sklearn\\cluster\\_kmeans.py:870: FutureWarning: The default value of `n_init` will change from 10 to 'auto' in 1.4. Set the value of `n_init` explicitly to suppress the warning\n",
      "  warnings.warn(\n"
     ]
    }
   ],
   "source": [
    "fs = VarianceThreshold()\n",
    "\n",
    "numerical_transformer = Pipeline([\n",
    "    ('imputer', SimpleImputer()),\n",
    "    ('scaler', MinMaxScaler()),\n",
    "    ('selector', VarianceThreshold())\n",
    "])\n",
    "\n",
    "categorical_transformer = Pipeline([\n",
    "    ('scaler', OrdinalEncoder()),\n",
    "    ('imputer', SimpleImputer())\n",
    "])\n",
    "\n",
    "ct = ColumnTransformer(\n",
    "    [('num_transf', numerical_transformer, ['age', 'fare']),\n",
    "    ('cat_transf', categorical_transformer, ['survived', 'pclass', 'sex', 'embarked'])],\n",
    "    remainder='drop'\n",
    ")\n",
    "\n",
    "very_complex_pipe = Pipeline([\n",
    "    ('transformer', ct),\n",
    "    ('kmeans', KMeans())\n",
    "])\n",
    "\n",
    "param_grid_very_complex_pipe = {\n",
    "    'transformer__num_transf__selector__threshold': [0.0, 0.05],\n",
    "    'kmeans__n_clusters': list(range(3, 9)),\n",
    "}\n",
    "\n",
    "very_complex_search = GridSearchCV(\n",
    "    very_complex_pipe,\n",
    "    param_grid_very_complex_pipe,\n",
    "    scoring='adjusted_rand_score',\n",
    "    n_jobs=-1,\n",
    "    cv=10).fit(titanic)"
   ]
  },
  {
   "cell_type": "code",
   "execution_count": null,
   "metadata": {},
   "outputs": [],
   "source": []
  }
 ],
 "metadata": {
  "kernelspec": {
   "display_name": "Python 3.9.13 ('python-calcolo-numerico-5v4ihblp')",
   "language": "python",
   "name": "python3"
  },
  "language_info": {
   "codemirror_mode": {
    "name": "ipython",
    "version": 3
   },
   "file_extension": ".py",
   "mimetype": "text/x-python",
   "name": "python",
   "nbconvert_exporter": "python",
   "pygments_lexer": "ipython3",
   "version": "3.10.10"
  },
  "orig_nbformat": 4,
  "vscode": {
   "interpreter": {
    "hash": "bff96ae05cbca38553397e8b82810313cdead769dbf63fb2d18b6e7c166b3c3a"
   }
  }
 },
 "nbformat": 4,
 "nbformat_minor": 2
}
