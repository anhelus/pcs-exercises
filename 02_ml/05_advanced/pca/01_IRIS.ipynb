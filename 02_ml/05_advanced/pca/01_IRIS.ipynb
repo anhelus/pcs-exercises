{
 "cells": [
  {
   "attachments": {},
   "cell_type": "markdown",
   "metadata": {},
   "source": [
    "# PCA sul dataset IRIS\n",
    "\n",
    "## Import librerie e definizioni utili\n"
   ]
  },
  {
   "cell_type": "code",
   "execution_count": null,
   "metadata": {},
   "outputs": [],
   "source": [
    "import pandas as pd \n",
    "from sklearn import datasets\n",
    "from sklearn.preprocessing import StandardScaler\n",
    "import numpy as np\n",
    "from sklearn.decomposition import PCA\n",
    "import matplotlib.pyplot as plt \n",
    "import seaborn as sns\n",
    "from mpl_toolkits import mplot3d\n",
    "\n",
    "\n",
    "target_names = {\n",
    "    0:'setosa',\n",
    "    1:'versicolor', \n",
    "    2:'virginica'\n",
    "}"
   ]
  },
  {
   "attachments": {},
   "cell_type": "markdown",
   "metadata": {},
   "source": [
    "## Caricamento del dataset"
   ]
  },
  {
   "cell_type": "code",
   "execution_count": null,
   "metadata": {},
   "outputs": [],
   "source": [
    "iris = datasets.load_iris()\n",
    " \n",
    "df = pd.DataFrame(\n",
    "    iris.data, \n",
    "    columns=iris.feature_names\n",
    "    )\n",
    " \n",
    "df['target'] = iris.target\n",
    "df['target_names'] = df['target'].map(target_names)\n",
    "\n",
    "df"
   ]
  },
  {
   "attachments": {},
   "cell_type": "markdown",
   "metadata": {},
   "source": [
    "## Caricamento separato dei dati e del target"
   ]
  },
  {
   "cell_type": "code",
   "execution_count": null,
   "metadata": {},
   "outputs": [],
   "source": [
    "X = iris.data\n",
    "y = iris.target"
   ]
  },
  {
   "attachments": {},
   "cell_type": "markdown",
   "metadata": {},
   "source": [
    "## Standardizzazione delle variabili (media nulla e varianza unitaria)"
   ]
  },
  {
   "cell_type": "code",
   "execution_count": null,
   "metadata": {},
   "outputs": [],
   "source": [
    "X_scaled = StandardScaler().fit_transform(X)\n",
    "print('Prime righe di X')\n",
    "print(X[:5,:])\n",
    "print('Prime righe di X_scaled')\n",
    "print(X_scaled[:5,:])\n",
    "print('mean')\n",
    "print(np.mean(X_scaled, axis=0))\n",
    "print('std dev')\n",
    "print(np.std(X_scaled, axis=0))"
   ]
  },
  {
   "attachments": {},
   "cell_type": "markdown",
   "metadata": {},
   "source": [
    "## Riduzione della dimensionalità tramite PCA"
   ]
  },
  {
   "cell_type": "code",
   "execution_count": null,
   "metadata": {},
   "outputs": [],
   "source": [
    "pca = PCA(n_components=3)\n",
    " \n",
    "pca_features = pca.fit_transform(X_scaled)\n",
    " \n",
    "print('Shape before PCA: ', X_scaled.shape)\n",
    "print('Shape after PCA: ', pca_features.shape)\n",
    " \n",
    "pca_df = pd.DataFrame(\n",
    "    data=pca_features, \n",
    "    columns=['PC1', 'PC2', 'PC3'])\n",
    "\n",
    "pca_df['target'] = y\n",
    "pca_df['target'] = pca_df['target'].map(target_names)\n",
    " \n",
    "pca_df"
   ]
  },
  {
   "attachments": {},
   "cell_type": "markdown",
   "metadata": {},
   "source": [
    "## Alcune considerazioni\n",
    "\n",
    "Per sapere il contributo di ogni feature alla definizione di una componente principale è possibile riferirsi a `pca.explained_variance_`, la cui lunghezza è pari al numero di componenti `n_components` scelto"
   ]
  },
  {
   "cell_type": "code",
   "execution_count": null,
   "metadata": {},
   "outputs": [],
   "source": [
    "print(pca.explained_variance_)\n",
    "NC = len(pca.explained_variance_)\n",
    "\n",
    "sns.set()\n",
    "\n",
    "plt.bar(range(1,NC+1), pca.explained_variance_)\n",
    "plt.plot(range(1,NC+1), np.cumsum(pca.explained_variance_), c='red', label='Cumulativa')\n",
    " \n",
    "plt.legend(loc='upper left')\n",
    "plt.xlabel('Componenti principali')\n",
    "plt.ylabel('Varianza espressa')\n",
    "plt.title('Varianza espressa dalle nuove feature')\n",
    " \n",
    "plt.show()"
   ]
  },
  {
   "attachments": {},
   "cell_type": "markdown",
   "metadata": {},
   "source": [
    "Possiamo cercare di visualizzare meglio la varianza espressa dalle feature iniziali del dataset con uno scatter plot tridimensionale"
   ]
  },
  {
   "cell_type": "code",
   "execution_count": null,
   "metadata": {},
   "outputs": [],
   "source": [
    "plt.style.use('default')\n",
    " \n",
    "fig = plt.figure()\n",
    "ax = plt.axes(projection='3d')\n",
    " \n",
    "ax.scatter3D(X_scaled[:, 0], X_scaled[:, 1], X_scaled[:, 2], c=X_scaled[:, 2], cmap='jet')\n",
    " \n",
    "plt.title(f'IRIS 3D Scatter')\n",
    " \n",
    "ticks = np.linspace(-3, 3, num=5)\n",
    "ax.set_xticks(ticks)\n",
    "ax.set_yticks(ticks)\n",
    "ax.set_zticks(ticks)\n",
    " \n",
    "ax.set_xlabel('sepal_length', rotation=150)\n",
    "ax.set_ylabel('sepal_width')\n",
    "ax.set_zlabel('petal_length', rotation=60)\n",
    "plt.show()"
   ]
  },
  {
   "attachments": {},
   "cell_type": "markdown",
   "metadata": {},
   "source": [
    "**Osservazione:** la variabile `petal_length`, già visivamente, esprime meno varianza rispetto alle altre due.\n",
    "\n",
    "Sembra quasi di osservare in 3D una distribuzione di dati che sarebbe ben visualizzabile/spiegabile in sole due dimensioni.\n",
    "\n",
    "Se decidessimo di visualizzare solo `sepal_length` vs. `sepal_width` però avremmo arbitrariamente deciso di **perdere** una variabile.\n",
    "\n",
    "## **Soluzione:** riduciamo il dataset da 4 feature a 2 feature utilizzando la PCA! "
   ]
  },
  {
   "cell_type": "code",
   "execution_count": null,
   "metadata": {},
   "outputs": [],
   "source": [
    "pca = PCA(n_components=2)\n",
    " \n",
    "# Fit and transform data\n",
    "pca_features = pca.fit_transform(X_scaled)\n",
    " \n",
    "# Create dataframe\n",
    "pca_df = pd.DataFrame(\n",
    "    data=pca_features, \n",
    "    columns=['PC1', 'PC2'])\n",
    "\n",
    "pca_df['target'] = y\n",
    "pca_df['target'] = pca_df['target'].map(target_names)\n",
    " \n",
    "pca_df.head()"
   ]
  },
  {
   "attachments": {},
   "cell_type": "markdown",
   "metadata": {},
   "source": [
    "Visualizziamo i risultati"
   ]
  },
  {
   "cell_type": "code",
   "execution_count": null,
   "metadata": {},
   "outputs": [],
   "source": [
    "sns.set()\n",
    " \n",
    "sns.lmplot(\n",
    "    x='PC1', \n",
    "    y='PC2', \n",
    "    data=pca_df, \n",
    "    hue='target', \n",
    "    fit_reg=False, \n",
    "    legend=True\n",
    "    )\n",
    " \n",
    "plt.title('2D PCA Graph')\n",
    "plt.show()"
   ]
  }
 ],
 "metadata": {
  "kernelspec": {
   "display_name": "labenv",
   "language": "python",
   "name": "python3"
  },
  "language_info": {
   "codemirror_mode": {
    "name": "ipython",
    "version": 3
   },
   "file_extension": ".py",
   "mimetype": "text/x-python",
   "name": "python",
   "nbconvert_exporter": "python",
   "pygments_lexer": "ipython3",
   "version": "3.10.10"
  },
  "orig_nbformat": 4
 },
 "nbformat": 4,
 "nbformat_minor": 2
}
