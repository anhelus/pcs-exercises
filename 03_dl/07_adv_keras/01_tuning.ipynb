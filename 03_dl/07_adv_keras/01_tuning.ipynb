{
 "cells": [
  {
   "attachments": {},
   "cell_type": "markdown",
   "metadata": {},
   "source": [
    "In questo notebook vedremo come utilizzare le librerie KerasTuner ed AutoKeras per migliorare le performance della nostra rete neurale. Agiremo sul dataset **diabetes**, affrontando un problema di regressione, e cercando le combinazioni di iperparametri ed architetture migliori.\n",
    "\n",
    "Per prima cosa, importiamo i package necessari."
   ]
  },
  {
   "cell_type": "code",
   "execution_count": 32,
   "metadata": {},
   "outputs": [],
   "source": [
    "import autokeras as ak\n",
    "import keras_tuner as kt\n",
    "from tensorflow import keras\n",
    "\n",
    "from sklearn.datasets import load_diabetes\n",
    "from sklearn.model_selection import train_test_split"
   ]
  },
  {
   "attachments": {},
   "cell_type": "markdown",
   "metadata": {},
   "source": [
    "**Parte 1: tuning degli iperparametri**\n",
    "\n",
    "Creiamo una funzione che accetta un parametro `hp` rappresentativo di un container contenente una rappresentazione dello spazio degli iperparametri. All'interno della funzione creeremo un modello di tipo sequenziale, nel quale andremo a definire una possibile scelta di iperparametri."
   ]
  },
  {
   "cell_type": "code",
   "execution_count": 33,
   "metadata": {},
   "outputs": [],
   "source": [
    "def build_model(hp: kt.HyperParameters) -> keras.models.Sequential:\n",
    "    \"\"\"Builds a neural network model with tunable hyperparameters.\n",
    "\n",
    "    Args:\n",
    "        hp (HyperParameters): An instance of HyperParameters from KerasTuner.\n",
    "\n",
    "    Returns:\n",
    "        keras.models.Sequential: The compiled model.\n",
    "\n",
    "    \"\"\"\n",
    "    model = keras.Sequential()\n",
    "    model.add(keras.layers.Dense(\n",
    "        units=hp.Int('units', min_value=8, max_value=64, step=8),\n",
    "        activation='relu'))\n",
    "    model.add(keras.layers.Dense(\n",
    "        units=hp.Int('units', min_value=8, max_value=128, step=8),\n",
    "        activation='relu'))\n",
    "    if hp.Boolean('dropout'):\n",
    "        model.add(keras.layers.Dropout(rate=0.2))\n",
    "    model.add(keras.layers.Dense(\n",
    "        1,\n",
    "        activation='relu'))\n",
    "    model.compile(loss=keras.losses.MeanAbsoluteError(),\n",
    "        optimizer=keras.optimizers.Adam())\n",
    "    return model"
   ]
  },
  {
   "attachments": {},
   "cell_type": "markdown",
   "metadata": {},
   "source": [
    "Creiamo adesso un oggetto di tipo `RandomSearch` che accetta:\n",
    "\n",
    "* il metodo `build_model`, necessario a creare il modello;\n",
    "* il parametro `objective`, che indica qual è il valore che vogliamo ottimizzare;\n",
    "* il parametro `max_trials`, che indica qual è il numero massimo di tentativi che vogliamo effettuare."
   ]
  },
  {
   "cell_type": "code",
   "execution_count": 34,
   "metadata": {},
   "outputs": [],
   "source": [
    "tuner = kt.RandomSearch(\n",
    "    build_model,\n",
    "    objective='val_loss',\n",
    "    directory='tuning',\n",
    "    project_name='pcs-hyp',\n",
    "    max_trials=10,\n",
    "    seed=42)"
   ]
  },
  {
   "attachments": {},
   "cell_type": "markdown",
   "metadata": {},
   "source": [
    "Carichiamo il dataset, suddividiamolo in insiemi di training e test, ed usiamo il metodo `search` per addestrare il nostro modello. L'interfaccia di questo metodo è molto simile a quella del metodo `fit` di Keras."
   ]
  },
  {
   "cell_type": "code",
   "execution_count": 35,
   "metadata": {},
   "outputs": [
    {
     "name": "stdout",
     "output_type": "stream",
     "text": [
      "Trial 10 Complete [00h 00m 01s]\n",
      "val_loss: 155.11521911621094\n",
      "\n",
      "Best val_loss So Far: 141.21014404296875\n",
      "Total elapsed time: 00h 00m 10s\n",
      "INFO:tensorflow:Oracle triggered exit\n"
     ]
    }
   ],
   "source": [
    "X, y = load_diabetes(return_X_y=True)\n",
    "X_train, X_test, y_train, y_test = train_test_split(X, y)\n",
    "\n",
    "tuner.search(\n",
    "    X_train,\n",
    "    y_train,\n",
    "    epochs=10,\n",
    "    validation_data=(X_test, y_test))"
   ]
  },
  {
   "attachments": {},
   "cell_type": "markdown",
   "metadata": {},
   "source": [
    "Vediamo quali sono gli iperparametri del miglior modello ottenuto."
   ]
  },
  {
   "cell_type": "code",
   "execution_count": 36,
   "metadata": {},
   "outputs": [
    {
     "name": "stdout",
     "output_type": "stream",
     "text": [
      "11/11 [==============================] - 0s 800us/step - loss: 129.5499\n",
      "Model: \"sequential\"\n",
      "_________________________________________________________________\n",
      " Layer (type)                Output Shape              Param #   \n",
      "=================================================================\n",
      " dense (Dense)               (None, 64)                704       \n",
      "                                                                 \n",
      " dense_1 (Dense)             (None, 64)                4160      \n",
      "                                                                 \n",
      " dropout (Dropout)           (None, 64)                0         \n",
      "                                                                 \n",
      " dense_2 (Dense)             (None, 1)                 65        \n",
      "                                                                 \n",
      "=================================================================\n",
      "Total params: 4,929\n",
      "Trainable params: 4,929\n",
      "Non-trainable params: 0\n",
      "_________________________________________________________________\n"
     ]
    }
   ],
   "source": [
    "best_model = tuner.get_best_models()[0]\n",
    "best_model.fit(X_train, y_train)\n",
    "best_model.summary()"
   ]
  },
  {
   "attachments": {},
   "cell_type": "markdown",
   "metadata": {},
   "source": [
    "**Parte 2: AutoML**\n",
    "\n",
    "Sfruttiamo l'oggetto `StructuredDataRegressor` di AutoKeras per determinare in maniera automatica la migliore struttura possibile per la regressione."
   ]
  },
  {
   "cell_type": "code",
   "execution_count": 37,
   "metadata": {},
   "outputs": [
    {
     "name": "stdout",
     "output_type": "stream",
     "text": [
      "Trial 10 Complete [00h 00m 02s]\n",
      "val_loss: 56.51576614379883\n",
      "\n",
      "Best val_loss So Far: 56.51576614379883\n",
      "Total elapsed time: 00h 00m 16s\n",
      "INFO:tensorflow:Oracle triggered exit\n",
      "Epoch 1/10\n",
      "11/11 [==============================] - 0s 12ms/step - loss: 149.6962 - mean_absolute_error: 126.2956 - val_loss: 158.3270 - val_mean_absolute_error: 158.3270\n",
      "Epoch 2/10\n",
      "11/11 [==============================] - 0s 4ms/step - loss: 148.8982 - mean_absolute_error: 148.8982 - val_loss: 157.1462 - val_mean_absolute_error: 157.1462\n",
      "Epoch 3/10\n",
      "11/11 [==============================] - 0s 3ms/step - loss: 147.3134 - mean_absolute_error: 147.3134 - val_loss: 154.7688 - val_mean_absolute_error: 154.7688\n",
      "Epoch 4/10\n",
      "11/11 [==============================] - 0s 4ms/step - loss: 143.9966 - mean_absolute_error: 143.9966 - val_loss: 149.8965 - val_mean_absolute_error: 149.8965\n",
      "Epoch 5/10\n",
      "11/11 [==============================] - 0s 4ms/step - loss: 137.2436 - mean_absolute_error: 137.2436 - val_loss: 140.0717 - val_mean_absolute_error: 140.0717\n",
      "Epoch 6/10\n",
      "11/11 [==============================] - 0s 4ms/step - loss: 124.1820 - mean_absolute_error: 124.1820 - val_loss: 122.2802 - val_mean_absolute_error: 122.2802\n",
      "Epoch 7/10\n",
      "11/11 [==============================] - 0s 4ms/step - loss: 101.3775 - mean_absolute_error: 101.3775 - val_loss: 96.9269 - val_mean_absolute_error: 96.9269\n",
      "Epoch 8/10\n",
      "11/11 [==============================] - 0s 4ms/step - loss: 82.9432 - mean_absolute_error: 82.9432 - val_loss: 70.8393 - val_mean_absolute_error: 70.8393\n",
      "Epoch 9/10\n",
      "11/11 [==============================] - 0s 4ms/step - loss: 68.1248 - mean_absolute_error: 68.1248 - val_loss: 60.9282 - val_mean_absolute_error: 60.9282\n",
      "Epoch 10/10\n",
      "11/11 [==============================] - 0s 4ms/step - loss: 64.7045 - mean_absolute_error: 64.7045 - val_loss: 58.7541 - val_mean_absolute_error: 58.7541\n",
      "INFO:tensorflow:Assets written to: tuning\\pcs-ak\\best_model\\assets\n"
     ]
    },
    {
     "data": {
      "text/plain": [
       "<keras.callbacks.History at 0x19b6d11e800>"
      ]
     },
     "execution_count": 37,
     "metadata": {},
     "output_type": "execute_result"
    }
   ],
   "source": [
    "reg = ak.StructuredDataRegressor(\n",
    "    loss=keras.losses.MeanAbsoluteError(),\n",
    "    metrics=[keras.metrics.MeanAbsoluteError()],\n",
    "    directory='tuning',\n",
    "    project_name='pcs-ak',\n",
    "    max_trials=10)\n",
    "\n",
    "reg.fit(\n",
    "    X_train,\n",
    "    y_train,\n",
    "    epochs=10,\n",
    "    validation_data=(X_test, y_test))"
   ]
  },
  {
   "attachments": {},
   "cell_type": "markdown",
   "metadata": {},
   "source": [
    "Proviamo ad esportare il miglior modello ottenuto tramite il metodo `export_model()`."
   ]
  },
  {
   "cell_type": "code",
   "execution_count": 40,
   "metadata": {},
   "outputs": [
    {
     "name": "stdout",
     "output_type": "stream",
     "text": [
      "Model: \"model\"\n",
      "_________________________________________________________________\n",
      " Layer (type)                Output Shape              Param #   \n",
      "=================================================================\n",
      " input_1 (InputLayer)        [(None, 10)]              0         \n",
      "                                                                 \n",
      " multi_category_encoding (Mu  (None, 10)               0         \n",
      " ltiCategoryEncoding)                                            \n",
      "                                                                 \n",
      " normalization (Normalizatio  (None, 10)               21        \n",
      " n)                                                              \n",
      "                                                                 \n",
      " dense (Dense)               (None, 512)               5632      \n",
      "                                                                 \n",
      " re_lu (ReLU)                (None, 512)               0         \n",
      "                                                                 \n",
      " dense_1 (Dense)             (None, 32)                16416     \n",
      "                                                                 \n",
      " re_lu_1 (ReLU)              (None, 32)                0         \n",
      "                                                                 \n",
      " dense_2 (Dense)             (None, 32)                1056      \n",
      "                                                                 \n",
      " re_lu_2 (ReLU)              (None, 32)                0         \n",
      "                                                                 \n",
      " dropout (Dropout)           (None, 32)                0         \n",
      "                                                                 \n",
      " regression_head_1 (Dense)   (None, 1)                 33        \n",
      "                                                                 \n",
      "=================================================================\n",
      "Total params: 23,158\n",
      "Trainable params: 23,137\n",
      "Non-trainable params: 21\n",
      "_________________________________________________________________\n"
     ]
    }
   ],
   "source": [
    "model = reg.export_model()\n",
    "model.summary()"
   ]
  },
  {
   "cell_type": "code",
   "execution_count": null,
   "metadata": {},
   "outputs": [],
   "source": []
  }
 ],
 "metadata": {
  "kernelspec": {
   "display_name": "pcs-exercises-8q7Km9bV",
   "language": "python",
   "name": "python3"
  },
  "language_info": {
   "codemirror_mode": {
    "name": "ipython",
    "version": 3
   },
   "file_extension": ".py",
   "mimetype": "text/x-python",
   "name": "python",
   "nbconvert_exporter": "python",
   "pygments_lexer": "ipython3",
   "version": "3.10.11"
  },
  "orig_nbformat": 4
 },
 "nbformat": 4,
 "nbformat_minor": 2
}
