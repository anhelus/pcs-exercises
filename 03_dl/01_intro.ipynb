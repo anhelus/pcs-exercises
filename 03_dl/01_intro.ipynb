{
 "cells": [
  {
   "cell_type": "code",
   "execution_count": 1,
   "metadata": {},
   "outputs": [],
   "source": [
    "import seaborn as sns\n",
    "import tensorflow as tf\n",
    "\n",
    "from sklearn.compose import ColumnTransformer\n",
    "from sklearn.preprocessing import OrdinalEncoder, StandardScaler\n",
    "from sklearn.pipeline import Pipeline\n",
    "from sklearn.impute import SimpleImputer"
   ]
  },
  {
   "cell_type": "code",
   "execution_count": 2,
   "metadata": {},
   "outputs": [],
   "source": [
    "num_tr = Pipeline(\n",
    "    [('imputer', SimpleImputer()),\n",
    "     ('scaler', StandardScaler())]\n",
    ")\n",
    "\n",
    "cat_tr = Pipeline(\n",
    "    [('encoder', OrdinalEncoder()),\n",
    "     ('imputer', SimpleImputer()),\n",
    "     ('scaler', StandardScaler())]\n",
    ")\n",
    "\n",
    "ct = ColumnTransformer(\n",
    "    [\n",
    "        ('scaler', num_tr, ['pclass', 'age', 'fare']),\n",
    "        ('encoder', cat_tr, ['sex', 'embarked', 'class'])\n",
    "    ]\n",
    ")"
   ]
  },
  {
   "cell_type": "code",
   "execution_count": 3,
   "metadata": {},
   "outputs": [],
   "source": [
    "titanic = sns.load_dataset('titanic')\n",
    "\n",
    "y = titanic.pop('survived').values\n",
    "X = ct.fit_transform(titanic)"
   ]
  },
  {
   "cell_type": "code",
   "execution_count": 14,
   "metadata": {},
   "outputs": [
    {
     "name": "stdout",
     "output_type": "stream",
     "text": [
      "Model: \"sequential_3\"\n",
      "_________________________________________________________________\n",
      " Layer (type)                Output Shape              Param #   \n",
      "=================================================================\n",
      " dense_7 (Dense)             (None, 12)                84        \n",
      "                                                                 \n",
      " dropout_3 (Dropout)         (None, 12)                0         \n",
      "                                                                 \n",
      " dense_8 (Dense)             (None, 12)                156       \n",
      "                                                                 \n",
      " dense_9 (Dense)             (None, 1)                 13        \n",
      "                                                                 \n",
      "=================================================================\n",
      "Total params: 253\n",
      "Trainable params: 253\n",
      "Non-trainable params: 0\n",
      "_________________________________________________________________\n"
     ]
    }
   ],
   "source": [
    "model = tf.keras.Sequential()\n",
    "model.add(tf.keras.layers.InputLayer(input_shape=(6), dtype='float32'))\n",
    "model.add(tf.keras.layers.Dense(8))\n",
    "model.add(tf.keras.layers.Dropout(0.5))\n",
    "model.add(tf.keras.layers.Dense(1))"
   ]
  },
  {
   "cell_type": "code",
   "execution_count": 10,
   "metadata": {},
   "outputs": [],
   "source": [
    "model.compile(\n",
    "    optimizer=tf.keras.optimizers.SGD(),\n",
    "    loss=tf.keras.losses.BinaryCrossentropy(),\n",
    "    metrics=tf.keras.metrics.BinaryAccuracy()\n",
    ")"
   ]
  },
  {
   "cell_type": "code",
   "execution_count": 12,
   "metadata": {},
   "outputs": [
    {
     "name": "stdout",
     "output_type": "stream",
     "text": [
      "Epoch 1/10\n",
      "78/78 [==============================] - 1s 3ms/step - loss: 3.4262 - binary_accuracy: 0.7079 - val_loss: 1.6148 - val_binary_accuracy: 0.8134\n",
      "Epoch 2/10\n",
      "78/78 [==============================] - 0s 1ms/step - loss: 3.1754 - binary_accuracy: 0.7175 - val_loss: 2.3737 - val_binary_accuracy: 0.7873\n",
      "Epoch 3/10\n",
      "78/78 [==============================] - 0s 2ms/step - loss: 3.1141 - binary_accuracy: 0.7303 - val_loss: 1.9281 - val_binary_accuracy: 0.7985\n",
      "Epoch 4/10\n",
      "78/78 [==============================] - 0s 2ms/step - loss: 2.7570 - binary_accuracy: 0.7560 - val_loss: 2.4069 - val_binary_accuracy: 0.7649\n",
      "Epoch 5/10\n",
      "78/78 [==============================] - 0s 2ms/step - loss: 3.4982 - binary_accuracy: 0.7143 - val_loss: 3.3915 - val_binary_accuracy: 0.7500\n",
      "Epoch 6/10\n",
      "78/78 [==============================] - 0s 2ms/step - loss: 5.0117 - binary_accuracy: 0.6453 - val_loss: 3.1098 - val_binary_accuracy: 0.7948\n",
      "Epoch 7/10\n",
      "78/78 [==============================] - 0s 2ms/step - loss: 4.1847 - binary_accuracy: 0.6998 - val_loss: 3.2118 - val_binary_accuracy: 0.7873\n",
      "Epoch 8/10\n",
      "78/78 [==============================] - 0s 2ms/step - loss: 4.1480 - binary_accuracy: 0.7111 - val_loss: 3.1108 - val_binary_accuracy: 0.7873\n",
      "Epoch 9/10\n",
      "78/78 [==============================] - 0s 1ms/step - loss: 4.0472 - binary_accuracy: 0.7095 - val_loss: 3.1577 - val_binary_accuracy: 0.7910\n",
      "Epoch 10/10\n",
      "78/78 [==============================] - 0s 1ms/step - loss: 3.7116 - binary_accuracy: 0.7448 - val_loss: 3.3246 - val_binary_accuracy: 0.7836\n"
     ]
    },
    {
     "data": {
      "text/plain": [
       "<keras.callbacks.History at 0x17237a9fe50>"
      ]
     },
     "execution_count": 12,
     "metadata": {},
     "output_type": "execute_result"
    }
   ],
   "source": [
    "model.fit(X, y, 8, epochs=50, validation_split=0.3)"
   ]
  },
  {
   "cell_type": "code",
   "execution_count": 15,
   "metadata": {},
   "outputs": [],
   "source": [
    "inputs = tf.keras.Input(shape=(6,), dtype='float32')\n",
    "x = tf.keras.layers.Dense(4)(inputs)\n",
    "x = tf.keras.layers.Dropout(0.5)(x)\n",
    "outputs = tf.keras.layers.Dense(1)(x)\n",
    "model = tf.keras.Model(inputs, outputs)"
   ]
  },
  {
   "cell_type": "code",
   "execution_count": 16,
   "metadata": {},
   "outputs": [
    {
     "name": "stdout",
     "output_type": "stream",
     "text": [
      "Epoch 1/10\n",
      "78/78 [==============================] - 0s 2ms/step - loss: 5.8837 - binary_accuracy: 0.5377 - val_loss: 3.9539 - val_binary_accuracy: 0.7201\n",
      "Epoch 2/10\n",
      "78/78 [==============================] - 0s 1ms/step - loss: 4.9939 - binary_accuracy: 0.5827 - val_loss: 3.5658 - val_binary_accuracy: 0.7425\n",
      "Epoch 3/10\n",
      "78/78 [==============================] - 0s 1ms/step - loss: 4.3215 - binary_accuracy: 0.6453 - val_loss: 3.5914 - val_binary_accuracy: 0.7500\n",
      "Epoch 4/10\n",
      "78/78 [==============================] - 0s 1ms/step - loss: 3.8186 - binary_accuracy: 0.6421 - val_loss: 3.5445 - val_binary_accuracy: 0.7500\n",
      "Epoch 5/10\n",
      "78/78 [==============================] - 0s 1ms/step - loss: 6.0725 - binary_accuracy: 0.5393 - val_loss: 6.2081 - val_binary_accuracy: 0.5709\n",
      "Epoch 6/10\n",
      "78/78 [==============================] - 0s 1ms/step - loss: 5.4714 - binary_accuracy: 0.5762 - val_loss: 6.0226 - val_binary_accuracy: 0.5970\n",
      "Epoch 7/10\n",
      "78/78 [==============================] - 0s 1ms/step - loss: 5.4384 - binary_accuracy: 0.5811 - val_loss: 6.1289 - val_binary_accuracy: 0.5970\n",
      "Epoch 8/10\n",
      "78/78 [==============================] - 0s 1ms/step - loss: 5.6208 - binary_accuracy: 0.5859 - val_loss: 5.2979 - val_binary_accuracy: 0.6418\n",
      "Epoch 9/10\n",
      "78/78 [==============================] - 0s 1ms/step - loss: 5.1034 - binary_accuracy: 0.6421 - val_loss: 5.1685 - val_binary_accuracy: 0.6530\n",
      "Epoch 10/10\n",
      "78/78 [==============================] - 0s 1ms/step - loss: 4.4301 - binary_accuracy: 0.6774 - val_loss: 4.8853 - val_binary_accuracy: 0.6754\n"
     ]
    },
    {
     "data": {
      "text/plain": [
       "<keras.callbacks.History at 0x1723a46b400>"
      ]
     },
     "execution_count": 16,
     "metadata": {},
     "output_type": "execute_result"
    }
   ],
   "source": [
    "model.compile(\n",
    "    optimizer=tf.keras.optimizers.SGD(),\n",
    "    loss=tf.keras.losses.BinaryCrossentropy(),\n",
    "    metrics=tf.keras.metrics.BinaryAccuracy()\n",
    ")\n",
    "model.fit(X, y, 8, epochs=10, validation_split=0.3)"
   ]
  },
  {
   "cell_type": "code",
   "execution_count": null,
   "metadata": {},
   "outputs": [],
   "source": []
  }
 ],
 "metadata": {
  "kernelspec": {
   "display_name": "pcs-exercises-v7kX8Rwt",
   "language": "python",
   "name": "python3"
  },
  "language_info": {
   "codemirror_mode": {
    "name": "ipython",
    "version": 3
   },
   "file_extension": ".py",
   "mimetype": "text/x-python",
   "name": "python",
   "nbconvert_exporter": "python",
   "pygments_lexer": "ipython3",
   "version": "3.10.10"
  },
  "orig_nbformat": 4
 },
 "nbformat": 4,
 "nbformat_minor": 2
}
