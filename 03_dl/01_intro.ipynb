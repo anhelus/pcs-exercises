{
 "cells": [
  {
   "cell_type": "code",
   "execution_count": 1,
   "metadata": {},
   "outputs": [],
   "source": [
    "import seaborn as sns\n",
    "import tensorflow as tf\n",
    "\n",
    "from sklearn.compose import ColumnTransformer\n",
    "from sklearn.preprocessing import OrdinalEncoder, StandardScaler\n",
    "from sklearn.pipeline import Pipeline\n",
    "from sklearn.impute import SimpleImputer"
   ]
  },
  {
   "cell_type": "code",
   "execution_count": 7,
   "metadata": {},
   "outputs": [],
   "source": [
    "num_tr = Pipeline(\n",
    "    [('imputer', SimpleImputer()),\n",
    "     ('scaler', StandardScaler())]\n",
    ")\n",
    "\n",
    "cat_tr = Pipeline(\n",
    "    [('encoder', OrdinalEncoder()),\n",
    "     ('imputer', SimpleImputer()),\n",
    "     ('scaler', StandardScaler())]\n",
    ")\n",
    "\n",
    "ct = ColumnTransformer(\n",
    "    [\n",
    "        ('scaler', num_tr, ['pclass', 'age', 'fare']),\n",
    "        ('encoder', cat_tr, ['sex', 'embarked', 'class'])\n",
    "    ]\n",
    ")"
   ]
  },
  {
   "cell_type": "code",
   "execution_count": 9,
   "metadata": {},
   "outputs": [],
   "source": [
    "titanic = sns.load_dataset('titanic')\n",
    "\n",
    "y = titanic.pop('survived').values\n",
    "X = ct.fit_transform(titanic)"
   ]
  },
  {
   "cell_type": "code",
   "execution_count": 13,
   "metadata": {},
   "outputs": [],
   "source": [
    "model = tf.keras.Sequential()\n",
    "model.add(tf.keras.layers.InputLayer(input_shape=(6), dtype='float32'))\n",
    "model.add(tf.keras.layers.Dense(8))\n",
    "model.add(tf.keras.layers.Dropout(0.5))\n",
    "model.add(tf.keras.layers.Dense(1))"
   ]
  },
  {
   "cell_type": "code",
   "execution_count": 14,
   "metadata": {},
   "outputs": [],
   "source": [
    "model.compile(\n",
    "    optimizer=tf.keras.optimizers.SGD(),\n",
    "    loss=tf.keras.losses.BinaryCrossentropy(),\n",
    "    metrics=tf.keras.metrics.BinaryAccuracy()\n",
    ")"
   ]
  },
  {
   "cell_type": "code",
   "execution_count": 16,
   "metadata": {},
   "outputs": [
    {
     "name": "stdout",
     "output_type": "stream",
     "text": [
      "Epoch 1/10\n",
      "78/78 [==============================] - 0s 1ms/step - loss: 6.3116 - binary_accuracy: 0.5891 - val_loss: 4.0237 - val_binary_accuracy: 0.7388\n",
      "Epoch 2/10\n",
      "78/78 [==============================] - 0s 869us/step - loss: 6.7616 - binary_accuracy: 0.5522 - val_loss: 3.8530 - val_binary_accuracy: 0.7500\n",
      "Epoch 3/10\n",
      "78/78 [==============================] - 0s 836us/step - loss: 6.4907 - binary_accuracy: 0.5746 - val_loss: 4.1393 - val_binary_accuracy: 0.7201\n",
      "Epoch 4/10\n",
      "78/78 [==============================] - 0s 809us/step - loss: 6.3112 - binary_accuracy: 0.5859 - val_loss: 3.8425 - val_binary_accuracy: 0.7500\n",
      "Epoch 5/10\n",
      "78/78 [==============================] - 0s 849us/step - loss: 6.0942 - binary_accuracy: 0.6003 - val_loss: 3.9645 - val_binary_accuracy: 0.7388\n",
      "Epoch 6/10\n",
      "78/78 [==============================] - 0s 804us/step - loss: 6.2676 - binary_accuracy: 0.5843 - val_loss: 4.2082 - val_binary_accuracy: 0.7201\n",
      "Epoch 7/10\n",
      "78/78 [==============================] - 0s 822us/step - loss: 5.7737 - binary_accuracy: 0.6164 - val_loss: 3.9686 - val_binary_accuracy: 0.7388\n",
      "Epoch 8/10\n",
      "78/78 [==============================] - 0s 808us/step - loss: 5.4818 - binary_accuracy: 0.6388 - val_loss: 3.9633 - val_binary_accuracy: 0.7425\n",
      "Epoch 9/10\n",
      "78/78 [==============================] - 0s 835us/step - loss: 5.8702 - binary_accuracy: 0.6132 - val_loss: 4.2371 - val_binary_accuracy: 0.7239\n",
      "Epoch 10/10\n",
      "78/78 [==============================] - 0s 871us/step - loss: 6.4773 - binary_accuracy: 0.5746 - val_loss: 4.2373 - val_binary_accuracy: 0.7239\n"
     ]
    },
    {
     "data": {
      "text/plain": [
       "<keras.callbacks.History at 0x254c9894fa0>"
      ]
     },
     "execution_count": 16,
     "metadata": {},
     "output_type": "execute_result"
    }
   ],
   "source": [
    "model.fit(X, y, 8, epochs=10, validation_split=0.3)"
   ]
  },
  {
   "cell_type": "code",
   "execution_count": 17,
   "metadata": {},
   "outputs": [],
   "source": [
    "inputs = tf.keras.Input(shape=(6,), dtype='float32')\n",
    "x = tf.keras.layers.Dense(8)(inputs)\n",
    "x = tf.keras.layers.Dropout(0.5)(x)\n",
    "outputs = tf.keras.layers.Dense(1)(x)\n",
    "model = tf.keras.Model(inputs, outputs)"
   ]
  },
  {
   "cell_type": "code",
   "execution_count": 18,
   "metadata": {},
   "outputs": [
    {
     "name": "stdout",
     "output_type": "stream",
     "text": [
      "Epoch 1/10\n",
      "78/78 [==============================] - 0s 2ms/step - loss: 3.0551 - binary_accuracy: 0.6934 - val_loss: 2.9924 - val_binary_accuracy: 0.7351\n",
      "Epoch 2/10\n",
      "78/78 [==============================] - 0s 820us/step - loss: 3.3616 - binary_accuracy: 0.6886 - val_loss: 5.0377 - val_binary_accuracy: 0.6642\n",
      "Epoch 3/10\n",
      "78/78 [==============================] - 0s 828us/step - loss: 4.2315 - binary_accuracy: 0.6693 - val_loss: 5.0758 - val_binary_accuracy: 0.6679\n",
      "Epoch 4/10\n",
      "78/78 [==============================] - 0s 822us/step - loss: 4.2445 - binary_accuracy: 0.6918 - val_loss: 5.1950 - val_binary_accuracy: 0.6604\n",
      "Epoch 5/10\n",
      "78/78 [==============================] - 0s 906us/step - loss: 4.3095 - binary_accuracy: 0.6742 - val_loss: 5.2738 - val_binary_accuracy: 0.6530\n",
      "Epoch 6/10\n",
      "78/78 [==============================] - 0s 821us/step - loss: 4.9113 - binary_accuracy: 0.6549 - val_loss: 5.2684 - val_binary_accuracy: 0.6567\n",
      "Epoch 7/10\n",
      "78/78 [==============================] - 0s 848us/step - loss: 5.2104 - binary_accuracy: 0.6324 - val_loss: 4.9628 - val_binary_accuracy: 0.6567\n",
      "Epoch 8/10\n",
      "78/78 [==============================] - 0s 861us/step - loss: 4.6459 - binary_accuracy: 0.6709 - val_loss: 4.9396 - val_binary_accuracy: 0.6679\n",
      "Epoch 9/10\n",
      "78/78 [==============================] - 0s 857us/step - loss: 4.6404 - binary_accuracy: 0.6629 - val_loss: 4.9305 - val_binary_accuracy: 0.6791\n",
      "Epoch 10/10\n",
      "78/78 [==============================] - 0s 834us/step - loss: 4.6130 - binary_accuracy: 0.6597 - val_loss: 4.9252 - val_binary_accuracy: 0.6791\n"
     ]
    },
    {
     "data": {
      "text/plain": [
       "<keras.callbacks.History at 0x254c98a3640>"
      ]
     },
     "execution_count": 18,
     "metadata": {},
     "output_type": "execute_result"
    }
   ],
   "source": [
    "model.compile(\n",
    "    optimizer=tf.keras.optimizers.SGD(),\n",
    "    loss=tf.keras.losses.BinaryCrossentropy(),\n",
    "    metrics=tf.keras.metrics.BinaryAccuracy()\n",
    ")\n",
    "model.fit(X, y, 8, epochs=10, validation_split=0.3)"
   ]
  },
  {
   "cell_type": "code",
   "execution_count": null,
   "metadata": {},
   "outputs": [],
   "source": []
  }
 ],
 "metadata": {
  "kernelspec": {
   "display_name": "pcs-exercises-v7kX8Rwt",
   "language": "python",
   "name": "python3"
  },
  "language_info": {
   "codemirror_mode": {
    "name": "ipython",
    "version": 3
   },
   "file_extension": ".py",
   "mimetype": "text/x-python",
   "name": "python",
   "nbconvert_exporter": "python",
   "pygments_lexer": "ipython3",
   "version": "3.10.10"
  },
  "orig_nbformat": 4
 },
 "nbformat": 4,
 "nbformat_minor": 2
}
