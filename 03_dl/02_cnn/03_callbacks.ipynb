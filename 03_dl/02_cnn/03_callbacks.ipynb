{
 "cells": [
  {
   "cell_type": "code",
   "execution_count": null,
   "metadata": {},
   "outputs": [],
   "source": [
    "import os; os.environ[\"TF_CPP_MIN_LOG_LEVEL\"] = \"3\"\n",
    "from tensorflow import keras"
   ]
  },
  {
   "cell_type": "code",
   "execution_count": null,
   "metadata": {},
   "outputs": [],
   "source": [
    "train_ds = keras.utils.image_dataset_from_directory(\n",
    "    '03_dl/02_cnn/data/cats_dogs/',\n",
    "    batch_size=16,\n",
    "    image_size=(256, 256),\n",
    "    shuffle=True,\n",
    "    seed=42,\n",
    "    validation_split=0.3,\n",
    "    subset='training')\n",
    "\n",
    "val_ds = keras.utils.image_dataset_from_directory(\n",
    "    '03_dl/02_cnn/data/cats_dogs/',\n",
    "    batch_size=16,\n",
    "    image_size=(256, 256),\n",
    "    shuffle=True,\n",
    "    seed=42,\n",
    "    validation_split=0.3,\n",
    "    subset='validation')"
   ]
  },
  {
   "cell_type": "code",
   "execution_count": null,
   "metadata": {},
   "outputs": [],
   "source": [
    "model = keras.Sequential()\n",
    "model.add(keras.layers.InputLayer(input_shape=(256, 256, 3)))\n",
    "model.add(keras.layers.Conv2D(32, kernel_size=(3, 3), activation='relu'))\n",
    "model.add(keras.layers.MaxPooling2D(pool_size=(2, 2)))\n",
    "model.add(keras.layers.Dropout(0.2))\n",
    "model.add(keras.layers.Flatten())\n",
    "model.add(keras.layers.Dense(1))\n",
    "\n",
    "model.compile(\n",
    "    loss=keras.losses.BinaryCrossentropy(from_logits=True),\n",
    "    optimizer=keras.optimizers.Adam(),\n",
    "    metrics=[\n",
    "        keras.metrics.BinaryAccuracy(),\n",
    "        keras.metrics.Precision(),\n",
    "        keras.metrics.Recall()\n",
    "    ]\n",
    ")"
   ]
  },
  {
   "attachments": {},
   "cell_type": "markdown",
   "metadata": {},
   "source": [
    "Andiamo ad inserire tre diversi callback:\n",
    "\n",
    "1. un `ModelCheckpoint`, che salva i risultati intermedi nel file da noi specificati;\n",
    "2. un `EarlyStopping`, che interrompe l'addestramento qualora i risultati ottenuti non migliorino;\n",
    "3. un `TensorBoard`, che fa in modo che i risultati siano mostrati mediante TensorBoard."
   ]
  },
  {
   "cell_type": "code",
   "execution_count": null,
   "metadata": {},
   "outputs": [],
   "source": [
    "callbacks = [\n",
    "    keras.callbacks.ModelCheckpoint(\n",
    "        filepath='checkpoints/checkpoints',\n",
    "        save_weights_only=True,\n",
    "        monitor='val_binary_accuracy',\n",
    "        save_best_only=True),\n",
    "    keras.callbacks.EarlyStopping(\n",
    "        monitor='val_binary_accuracy',\n",
    "        min_delta=0.1,\n",
    "        patience=3,\n",
    "        restore_best_weights=True),\n",
    "    keras.callbacks.TensorBoard(log_dir='logs')\n",
    "]\n",
    "\n",
    "model.fit(\n",
    "    train_ds,\n",
    "    validation_data=val_ds,\n",
    "    epochs=10,\n",
    "    callbacks=callbacks\n",
    ")"
   ]
  },
  {
   "cell_type": "code",
   "execution_count": null,
   "metadata": {},
   "outputs": [],
   "source": [
    "model.save('results/saved_cat_dogs.h5')"
   ]
  }
 ],
 "metadata": {
  "kernelspec": {
   "display_name": "Python 3 (ipykernel)",
   "language": "python",
   "name": "python3"
  }
 },
 "nbformat": 4,
 "nbformat_minor": 4
}
