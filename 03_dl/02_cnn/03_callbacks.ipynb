{
 "cells": [
  {
   "cell_type": "code",
   "execution_count": 1,
   "metadata": {},
   "outputs": [],
   "source": [
    "# Load the TensorBoard notebook extension\n",
    "%load_ext tensorboard\n",
    "\n",
    "from tensorflow import keras"
   ]
  },
  {
   "cell_type": "code",
   "execution_count": 2,
   "metadata": {},
   "outputs": [
    {
     "name": "stdout",
     "output_type": "stream",
     "text": [
      "Found 25000 files belonging to 2 classes.\n",
      "Using 17500 files for training.\n",
      "Found 25000 files belonging to 2 classes.\n",
      "Using 7500 files for validation.\n"
     ]
    }
   ],
   "source": [
    "train_ds = keras.utils.image_dataset_from_directory(\n",
    "    'data/cats_dogs/',\n",
    "    batch_size=16,\n",
    "    image_size=(256, 256),\n",
    "    shuffle=True,\n",
    "    seed=42,\n",
    "    validation_split=0.3,\n",
    "    subset='training')\n",
    "\n",
    "val_ds = keras.utils.image_dataset_from_directory(\n",
    "    'data/cats_dogs/',\n",
    "    batch_size=16,\n",
    "    image_size=(256, 256),\n",
    "    shuffle=True,\n",
    "    seed=42,\n",
    "    validation_split=0.3,\n",
    "    subset='validation')"
   ]
  },
  {
   "cell_type": "code",
   "execution_count": 3,
   "metadata": {},
   "outputs": [],
   "source": [
    "model = keras.Sequential()\n",
    "model.add(keras.layers.InputLayer(input_shape=(256, 256, 3)))\n",
    "model.add(keras.layers.Conv2D(32, kernel_size=(3, 3), activation='relu'))\n",
    "model.add(keras.layers.MaxPooling2D(pool_size=(2, 2)))\n",
    "model.add(keras.layers.Flatten())\n",
    "model.add(keras.layers.Dense(1, activation='sigmoid'))\n",
    "\n",
    "model.compile(\n",
    "    loss=keras.losses.BinaryCrossentropy(),\n",
    "    optimizer=keras.optimizers.SGD(),\n",
    "    metrics=[\n",
    "        keras.metrics.BinaryAccuracy(),\n",
    "        keras.metrics.Precision(),\n",
    "        keras.metrics.Recall()\n",
    "    ]\n",
    ")"
   ]
  },
  {
   "attachments": {},
   "cell_type": "markdown",
   "metadata": {},
   "source": [
    "Andiamo ad inserire tre diversi callback:\n",
    "\n",
    "1. un `ModelCheckpoint`, che salva i risultati intermedi nel file da noi specificati;\n",
    "2. un `EarlyStopping`, che interrompe l'addestramento qualora i risultati ottenuti non migliorino;\n",
    "3. un `TensorBoard`, che fa in modo che i risultati siano mostrati mediante TensorBoard."
   ]
  },
  {
   "cell_type": "code",
   "execution_count": 4,
   "metadata": {},
   "outputs": [
    {
     "name": "stdout",
     "output_type": "stream",
     "text": [
      "Epoch 1/10\n",
      "1094/1094 [==============================] - 147s 134ms/step - loss: 6136.9336 - binary_accuracy: 0.5031 - precision: 0.5013 - recall: 0.4340 - val_loss: 0.6988 - val_binary_accuracy: 0.5043 - val_precision: 0.5315 - val_recall: 0.1513\n",
      "Epoch 2/10\n",
      "1094/1094 [==============================] - 152s 139ms/step - loss: 0.6904 - binary_accuracy: 0.5215 - precision: 0.5275 - recall: 0.3747 - val_loss: 0.6931 - val_binary_accuracy: 0.4947 - val_precision: 0.4974 - val_recall: 0.1027\n",
      "Epoch 3/10\n",
      "1094/1094 [==============================] - 151s 138ms/step - loss: 0.7097 - binary_accuracy: 0.5374 - precision: 0.5385 - recall: 0.4966 - val_loss: 0.6941 - val_binary_accuracy: 0.4869 - val_precision: 0.4487 - val_recall: 0.0716\n",
      "Epoch 4/10\n",
      "1094/1094 [==============================] - 152s 139ms/step - loss: 0.6572 - binary_accuracy: 0.5512 - precision: 0.5735 - recall: 0.3852 - val_loss: 0.6991 - val_binary_accuracy: 0.4912 - val_precision: 0.4810 - val_recall: 0.1001\n"
     ]
    },
    {
     "data": {
      "text/plain": [
       "<keras.callbacks.History at 0x2419d14ada0>"
      ]
     },
     "execution_count": 4,
     "metadata": {},
     "output_type": "execute_result"
    }
   ],
   "source": [
    "callbacks = [\n",
    "    keras.callbacks.ModelCheckpoint(\n",
    "        filepath='checkpoints/checkpoints',\n",
    "        save_weights_only=True,\n",
    "        monitor='val_binary_accuracy',\n",
    "        save_best_only=True),\n",
    "    keras.callbacks.EarlyStopping(\n",
    "        monitor='val_binary_accuracy',\n",
    "        min_delta=0.1,\n",
    "        patience=3,\n",
    "        restore_best_weights=True),\n",
    "    keras.callbacks.TensorBoard(log_dir='logs')\n",
    "]\n",
    "\n",
    "model.fit(\n",
    "    train_ds,\n",
    "    validation_data=val_ds,\n",
    "    epochs=10,\n",
    "    callbacks=callbacks\n",
    ")"
   ]
  },
  {
   "cell_type": "code",
   "execution_count": null,
   "metadata": {},
   "outputs": [],
   "source": []
  }
 ],
 "metadata": {
  "kernelspec": {
   "display_name": "pcs-exercises-4jw-2ggn",
   "language": "python",
   "name": "python3"
  },
  "language_info": {
   "codemirror_mode": {
    "name": "ipython",
    "version": 3
   },
   "file_extension": ".py",
   "mimetype": "text/x-python",
   "name": "python",
   "nbconvert_exporter": "python",
   "pygments_lexer": "ipython3",
   "version": "3.10.10"
  },
  "orig_nbformat": 4
 },
 "nbformat": 4,
 "nbformat_minor": 2
}
