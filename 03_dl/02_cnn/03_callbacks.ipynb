{
 "cells": [
  {
   "cell_type": "code",
   "execution_count": 9,
   "metadata": {},
   "outputs": [],
   "source": [
    "# Load the TensorBoard notebook extension\n",
    "%load_ext tensorboard\n",
    "\n",
    "from tensorflow import keras"
   ]
  },
  {
   "cell_type": "code",
   "execution_count": 6,
   "metadata": {},
   "outputs": [
    {
     "name": "stdout",
     "output_type": "stream",
     "text": [
      "Found 25000 files belonging to 2 classes.\n",
      "Using 17500 files for training.\n",
      "Found 25000 files belonging to 2 classes.\n",
      "Using 7500 files for validation.\n"
     ]
    }
   ],
   "source": [
    "train_ds = keras.utils.image_dataset_from_directory(\n",
    "    'data/cats_dogs/',\n",
    "    batch_size=16,\n",
    "    image_size=(256, 256),\n",
    "    shuffle=True,\n",
    "    seed=42,\n",
    "    validation_split=0.3,\n",
    "    subset='training')\n",
    "\n",
    "val_ds = keras.utils.image_dataset_from_directory(\n",
    "    'data/cats_dogs/',\n",
    "    batch_size=16,\n",
    "    image_size=(256, 256),\n",
    "    shuffle=True,\n",
    "    seed=42,\n",
    "    validation_split=0.3,\n",
    "    subset='validation')"
   ]
  },
  {
   "cell_type": "code",
   "execution_count": 7,
   "metadata": {},
   "outputs": [],
   "source": [
    "model = keras.Sequential()\n",
    "model.add(keras.layers.InputLayer(input_shape=(256, 256, 3)))\n",
    "model.add(keras.layers.Conv2D(32, kernel_size=(3, 3), activation='relu'))\n",
    "model.add(keras.layers.MaxPooling2D(pool_size=(2, 2)))\n",
    "model.add(keras.layers.Flatten())\n",
    "model.add(keras.layers.Dense(1, activation='sigmoid'))\n",
    "\n",
    "model.compile(\n",
    "    loss=keras.losses.BinaryCrossentropy(),\n",
    "    optimizer=keras.optimizers.SGD(),\n",
    "    metrics=[\n",
    "        keras.metrics.BinaryAccuracy(),\n",
    "        keras.metrics.Precision(),\n",
    "        keras.metrics.Recall()\n",
    "    ]\n",
    ")"
   ]
  },
  {
   "attachments": {},
   "cell_type": "markdown",
   "metadata": {},
   "source": [
    "Andiamo ad inserire tre diversi callback:\n",
    "\n",
    "1. un `ModelCheckpoint`, che salva i risultati intermedi nel file da noi specificati;\n",
    "2. un `EarlyStopping`, che interrompe l'addestramento qualora i risultati ottenuti non migliorino;\n",
    "3. un `TensorBoard`, che fa in modo che i risultati siano mostrati mediante TensorBoard."
   ]
  },
  {
   "cell_type": "code",
   "execution_count": 8,
   "metadata": {},
   "outputs": [
    {
     "name": "stdout",
     "output_type": "stream",
     "text": [
      "Epoch 1/10\n",
      "1094/1094 [==============================] - 166s 151ms/step - loss: 1830.7936 - binary_accuracy: 0.5005 - precision_1: 0.4982 - recall_1: 0.4331 - val_loss: 0.6957 - val_binary_accuracy: 0.5160 - val_precision_1: 0.5133 - val_recall_1: 0.7974\n",
      "Epoch 2/10\n",
      "1094/1094 [==============================] - 169s 154ms/step - loss: 0.6794 - binary_accuracy: 0.5359 - precision_1: 0.5303 - recall_1: 0.5944 - val_loss: 0.7476 - val_binary_accuracy: 0.5171 - val_precision_1: 0.5158 - val_recall_1: 0.7089\n",
      "Epoch 3/10\n",
      "1094/1094 [==============================] - 172s 157ms/step - loss: 0.6557 - binary_accuracy: 0.5662 - precision_1: 0.5491 - recall_1: 0.7198 - val_loss: 0.6940 - val_binary_accuracy: 0.4848 - val_precision_1: 0.4494 - val_recall_1: 0.0914\n",
      "Epoch 4/10\n",
      "1094/1094 [==============================] - 174s 159ms/step - loss: 0.6311 - binary_accuracy: 0.5882 - precision_1: 0.6020 - recall_1: 0.5107 - val_loss: 0.7033 - val_binary_accuracy: 0.4916 - val_precision_1: 0.4856 - val_recall_1: 0.1199\n"
     ]
    },
    {
     "data": {
      "text/plain": [
       "<keras.callbacks.History at 0x22ecd26b160>"
      ]
     },
     "execution_count": 8,
     "metadata": {},
     "output_type": "execute_result"
    }
   ],
   "source": [
    "callbacks = [\n",
    "    keras.callbacks.ModelCheckpoint(\n",
    "        filepath='checkpoints/checkpoints',\n",
    "        save_weights_only=True,\n",
    "        monitor='val_binary_accuracy',\n",
    "        save_best_only=True),\n",
    "    keras.callbacks.EarlyStopping(\n",
    "        monitor='val_binary_accuracy',\n",
    "        min_delta=0.1,\n",
    "        patience=3,\n",
    "        restore_best_weights=True),\n",
    "    keras.callbacks.TensorBoard(log_dir='logs')\n",
    "]\n",
    "\n",
    "model.fit(\n",
    "    train_ds,\n",
    "    validation_data=val_ds,\n",
    "    epochs=10,\n",
    "    callbacks=callbacks\n",
    ")"
   ]
  },
  {
   "cell_type": "code",
   "execution_count": null,
   "metadata": {},
   "outputs": [],
   "source": []
  }
 ],
 "metadata": {
  "kernelspec": {
   "display_name": "pcs-exercises-4jw-2ggn",
   "language": "python",
   "name": "python3"
  },
  "language_info": {
   "codemirror_mode": {
    "name": "ipython",
    "version": 3
   },
   "file_extension": ".py",
   "mimetype": "text/x-python",
   "name": "python",
   "nbconvert_exporter": "python",
   "pygments_lexer": "ipython3",
   "version": "3.10.10"
  },
  "orig_nbformat": 4
 },
 "nbformat": 4,
 "nbformat_minor": 2
}
