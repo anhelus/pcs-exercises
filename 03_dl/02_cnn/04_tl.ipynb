{
 "cells": [
  {
   "cell_type": "code",
   "execution_count": 1,
   "metadata": {},
   "outputs": [],
   "source": [
    "from tensorflow import keras"
   ]
  },
  {
   "cell_type": "code",
   "execution_count": 2,
   "metadata": {},
   "outputs": [
    {
     "name": "stdout",
     "output_type": "stream",
     "text": [
      "Found 25000 files belonging to 2 classes.\n",
      "Using 17500 files for training.\n",
      "Found 25000 files belonging to 2 classes.\n",
      "Using 7500 files for validation.\n"
     ]
    }
   ],
   "source": [
    "IMG_SIZE = (224, 224)\n",
    "\n",
    "train_ds = keras.utils.image_dataset_from_directory(\n",
    "    'data/cats_dogs/',\n",
    "    batch_size=16,\n",
    "    image_size=IMG_SIZE,\n",
    "    shuffle=True,\n",
    "    seed=42,\n",
    "    validation_split=0.3,\n",
    "    subset='training')\n",
    "\n",
    "val_ds = keras.utils.image_dataset_from_directory(\n",
    "    'data/cats_dogs/',\n",
    "    batch_size=16,\n",
    "    image_size=IMG_SIZE,\n",
    "    shuffle=True,\n",
    "    seed=42,\n",
    "    validation_split=0.3,\n",
    "    subset='validation')"
   ]
  },
  {
   "attachments": {},
   "cell_type": "markdown",
   "metadata": {},
   "source": [
    "Per prima cosa, proviamo ad utilizzare la rete in **transfer learning**. Per farlo:\n",
    "\n",
    "* selezioniamo una rete (in questo caso, `MobileNetV3Small`) dal package `applications` di Keras;\n",
    "* specifichiamo il parametro `weights` ad `imagenet`, in modo da caricare i pesi della rete già addestrata su ImageNet;\n",
    "* rimuoviamo il layer di classificazione di ImageNet impostando `include_top` a `False`;\n",
    "* impostiamo l'attributo `trainable` a `False` per evitare di modificare i pesi della rete;\n",
    "* costruiamo un nuovo modello."
   ]
  },
  {
   "cell_type": "code",
   "execution_count": 3,
   "metadata": {},
   "outputs": [
    {
     "name": "stdout",
     "output_type": "stream",
     "text": [
      "Epoch 1/20\n",
      "1094/1094 [==============================] - 115s 104ms/step - loss: 7.5073 - binary_accuracy: 0.4989 - val_loss: 7.5386 - val_binary_accuracy: 0.5037\n",
      "Epoch 2/20\n",
      "1094/1094 [==============================] - 125s 115ms/step - loss: 7.6379 - binary_accuracy: 0.4971 - val_loss: 7.5380 - val_binary_accuracy: 0.5037\n",
      "Epoch 3/20\n",
      "1094/1094 [==============================] - 129s 118ms/step - loss: 7.6436 - binary_accuracy: 0.4967 - val_loss: 7.5437 - val_binary_accuracy: 0.5034\n",
      "Epoch 4/20\n",
      "1094/1094 [==============================] - 127s 116ms/step - loss: 7.6369 - binary_accuracy: 0.4972 - val_loss: 7.5331 - val_binary_accuracy: 0.5043\n",
      "Epoch 5/20\n",
      "1094/1094 [==============================] - 126s 115ms/step - loss: 7.6305 - binary_accuracy: 0.4976 - val_loss: 7.5321 - val_binary_accuracy: 0.5043\n",
      "Epoch 6/20\n",
      "1094/1094 [==============================] - 125s 115ms/step - loss: 7.6304 - binary_accuracy: 0.4978 - val_loss: 7.5377 - val_binary_accuracy: 0.5043\n",
      "Epoch 7/20\n",
      "1094/1094 [==============================] - 124s 113ms/step - loss: 7.6360 - binary_accuracy: 0.4976 - val_loss: 7.5339 - val_binary_accuracy: 0.5045\n",
      "Epoch 8/20\n",
      "1094/1094 [==============================] - 124s 113ms/step - loss: 7.6313 - binary_accuracy: 0.4978 - val_loss: 7.5333 - val_binary_accuracy: 0.5044\n",
      "Epoch 9/20\n",
      "1094/1094 [==============================] - 127s 116ms/step - loss: 7.6285 - binary_accuracy: 0.4978 - val_loss: 7.5396 - val_binary_accuracy: 0.5044\n",
      "Epoch 10/20\n",
      "1094/1094 [==============================] - 125s 115ms/step - loss: 7.6382 - binary_accuracy: 0.4976 - val_loss: 7.5395 - val_binary_accuracy: 0.5044\n",
      "Epoch 11/20\n",
      "1094/1094 [==============================] - 127s 116ms/step - loss: 7.6368 - binary_accuracy: 0.4976 - val_loss: 7.5407 - val_binary_accuracy: 0.5044\n",
      "Epoch 12/20\n",
      "1094/1094 [==============================] - 124s 113ms/step - loss: 7.6388 - binary_accuracy: 0.4976 - val_loss: 7.5412 - val_binary_accuracy: 0.5047\n",
      "Epoch 13/20\n",
      "1094/1094 [==============================] - 124s 113ms/step - loss: 7.6375 - binary_accuracy: 0.4979 - val_loss: 7.5352 - val_binary_accuracy: 0.5048\n",
      "Epoch 14/20\n",
      "1094/1094 [==============================] - 124s 113ms/step - loss: 7.6344 - binary_accuracy: 0.4980 - val_loss: 7.5395 - val_binary_accuracy: 0.5044\n",
      "Epoch 15/20\n",
      "1094/1094 [==============================] - 124s 114ms/step - loss: 7.6363 - binary_accuracy: 0.4979 - val_loss: 7.5398 - val_binary_accuracy: 0.5045\n",
      "Epoch 16/20\n",
      "1094/1094 [==============================] - 125s 114ms/step - loss: 7.6366 - binary_accuracy: 0.4980 - val_loss: 7.5367 - val_binary_accuracy: 0.5047\n",
      "Epoch 17/20\n",
      "1094/1094 [==============================] - 126s 115ms/step - loss: 7.6354 - binary_accuracy: 0.4980 - val_loss: 7.5358 - val_binary_accuracy: 0.5047\n",
      "Epoch 18/20\n",
      "1094/1094 [==============================] - 126s 116ms/step - loss: 7.6372 - binary_accuracy: 0.4979 - val_loss: 7.5367 - val_binary_accuracy: 0.5047\n",
      "Epoch 19/20\n",
      "1094/1094 [==============================] - 128s 117ms/step - loss: 7.6340 - binary_accuracy: 0.4981 - val_loss: 7.5358 - val_binary_accuracy: 0.5047\n",
      "Epoch 20/20\n",
      "1094/1094 [==============================] - 134s 123ms/step - loss: 7.6234 - binary_accuracy: 0.4985 - val_loss: 7.5278 - val_binary_accuracy: 0.5048\n"
     ]
    },
    {
     "data": {
      "text/plain": [
       "<keras.callbacks.History at 0x23fea088610>"
      ]
     },
     "execution_count": 3,
     "metadata": {},
     "output_type": "execute_result"
    }
   ],
   "source": [
    "base_model = keras.applications.MobileNetV3Small(\n",
    "    weights='imagenet',\n",
    "    input_shape=(224, 224, 3),\n",
    "    include_top=False\n",
    ")\n",
    "\n",
    "base_model.trainable = False\n",
    "\n",
    "# sequential\n",
    "model = keras.Sequential()\n",
    "model.add(keras.layers.Lambda(keras.applications.mobilenet_v3.preprocess_input, input_shape=(224, 224, 3)))\n",
    "model.add(base_model)\n",
    "model.add(keras.layers.Dropout(0.2))\n",
    "model.add(keras.layers.Dense(1))\n",
    "\n",
    "model.compile(\n",
    "    optimizer=keras.optimizers.SGD(),\n",
    "    loss=keras.losses.BinaryCrossentropy(),\n",
    "    metrics=[keras.metrics.BinaryAccuracy()]\n",
    ")\n",
    "\n",
    "model.fit(train_ds, epochs=20, validation_data=val_ds)"
   ]
  },
  {
   "attachments": {},
   "cell_type": "markdown",
   "metadata": {},
   "source": [
    "Proviamo adesso ad effettuare il **fine tuning**. Per farlo, impostiamo `trainable` a `True`, e compiliamo il modello usando un learning rate molto basso (in questo caso, 0.00001)."
   ]
  },
  {
   "cell_type": "code",
   "execution_count": 4,
   "metadata": {},
   "outputs": [
    {
     "name": "stdout",
     "output_type": "stream",
     "text": [
      "Epoch 1/10\n",
      "1094/1094 [==============================] - 353s 320ms/step - loss: 7.6108 - binary_accuracy: 0.4982 - val_loss: 7.5203 - val_binary_accuracy: 0.5047\n",
      "Epoch 2/10\n",
      "1094/1094 [==============================] - 352s 321ms/step - loss: 7.6114 - binary_accuracy: 0.4981 - val_loss: 7.5141 - val_binary_accuracy: 0.5047\n",
      "Epoch 3/10\n",
      "1094/1094 [==============================] - 350s 320ms/step - loss: 7.6158 - binary_accuracy: 0.4981 - val_loss: 7.4919 - val_binary_accuracy: 0.5038\n",
      "Epoch 4/10\n",
      "1094/1094 [==============================] - 351s 321ms/step - loss: 7.6150 - binary_accuracy: 0.4981 - val_loss: 7.5126 - val_binary_accuracy: 0.5041\n",
      "Epoch 5/10\n",
      "1094/1094 [==============================] - 354s 324ms/step - loss: 7.6078 - binary_accuracy: 0.4983 - val_loss: 7.5461 - val_binary_accuracy: 0.5047\n",
      "Epoch 6/10\n",
      "1094/1094 [==============================] - 348s 318ms/step - loss: 7.5951 - binary_accuracy: 0.4986 - val_loss: 7.5266 - val_binary_accuracy: 0.5046\n",
      "Epoch 7/10\n",
      "1094/1094 [==============================] - 360s 329ms/step - loss: 7.5993 - binary_accuracy: 0.4984 - val_loss: 7.5197 - val_binary_accuracy: 0.5042\n",
      "Epoch 8/10\n",
      "1094/1094 [==============================] - 348s 318ms/step - loss: 7.5991 - binary_accuracy: 0.4983 - val_loss: 7.5114 - val_binary_accuracy: 0.5045\n",
      "Epoch 9/10\n",
      "1094/1094 [==============================] - 349s 319ms/step - loss: 7.5939 - binary_accuracy: 0.4986 - val_loss: 7.5091 - val_binary_accuracy: 0.5041\n",
      "Epoch 10/10\n",
      "1094/1094 [==============================] - 348s 318ms/step - loss: 7.5982 - binary_accuracy: 0.4983 - val_loss: 7.5028 - val_binary_accuracy: 0.5044\n"
     ]
    },
    {
     "data": {
      "text/plain": [
       "<keras.callbacks.History at 0x23fea088520>"
      ]
     },
     "execution_count": 4,
     "metadata": {},
     "output_type": "execute_result"
    }
   ],
   "source": [
    "base_model.trainable = True\n",
    "\n",
    "model.compile(\n",
    "    optimizer=keras.optimizers.SGD(1e-5),\n",
    "    loss=keras.losses.BinaryCrossentropy(),\n",
    "    metrics=[keras.metrics.BinaryAccuracy()],\n",
    ")\n",
    "\n",
    "model.fit(train_ds, epochs=10, validation_data=val_ds)"
   ]
  }
 ],
 "metadata": {
  "kernelspec": {
   "display_name": "Python 3 (ipykernel)",
   "language": "python",
   "name": "python3"
  },
  "language_info": {
   "codemirror_mode": {
    "name": "ipython",
    "version": 3
   },
   "file_extension": ".py",
   "mimetype": "text/x-python",
   "name": "python",
   "nbconvert_exporter": "python",
   "pygments_lexer": "ipython3",
   "version": "3.10.10"
  }
 },
 "nbformat": 4,
 "nbformat_minor": 2
}
