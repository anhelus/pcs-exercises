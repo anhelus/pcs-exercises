{
 "cells": [
  {
   "cell_type": "code",
   "execution_count": 1,
   "metadata": {},
   "outputs": [],
   "source": [
    "import os; os.environ[\"TF_CPP_MIN_LOG_LEVEL\"] = \"3\"\n",
    "from tensorflow import keras"
   ]
  },
  {
   "cell_type": "code",
   "execution_count": 2,
   "metadata": {},
   "outputs": [
    {
     "name": "stdout",
     "output_type": "stream",
     "text": [
      "Found 25000 files belonging to 2 classes.\n",
      "Using 17500 files for training.\n",
      "Found 25000 files belonging to 2 classes.\n",
      "Using 7500 files for validation.\n"
     ]
    }
   ],
   "source": [
    "IMG_SIZE = (224, 224)\n",
    "\n",
    "train_ds = keras.utils.image_dataset_from_directory(\n",
    "    'data/cats_dogs/',\n",
    "    batch_size=16,\n",
    "    label_mode='binary',\n",
    "    image_size=IMG_SIZE,\n",
    "    shuffle=True,\n",
    "    seed=42,\n",
    "    validation_split=0.3,\n",
    "    subset='training')\n",
    "\n",
    "val_ds = keras.utils.image_dataset_from_directory(\n",
    "    'data/cats_dogs/',\n",
    "    batch_size=16,\n",
    "    label_mode='binary',\n",
    "    image_size=IMG_SIZE,\n",
    "    shuffle=True,\n",
    "    seed=42,\n",
    "    validation_split=0.3,\n",
    "    subset='validation')"
   ]
  },
  {
   "attachments": {},
   "cell_type": "markdown",
   "metadata": {},
   "source": [
    "Per prima cosa, proviamo ad utilizzare la rete in **transfer learning**. Per farlo:\n",
    "\n",
    "* selezioniamo una rete (in questo caso, `MobileNetV3Small`) dal package `applications` di Keras;\n",
    "* specifichiamo il parametro `weights` ad `imagenet`, in modo da caricare i pesi della rete già addestrata su ImageNet;\n",
    "* rimuoviamo il layer di classificazione di ImageNet impostando `include_top` a `False`;\n",
    "* impostiamo l'attributo `trainable` a `False` per evitare di modificare i pesi della rete;\n",
    "* costruiamo un nuovo modello."
   ]
  },
  {
   "cell_type": "code",
   "execution_count": 3,
   "metadata": {},
   "outputs": [
    {
     "name": "stdout",
     "output_type": "stream",
     "text": [
      "Epoch 1/20\n",
      "1094/1094 [==============================] - 142s 128ms/step - loss: 1.3498 - binary_accuracy: 0.9085 - precision: 0.9127 - recall: 0.9026 - val_loss: 2.3737 - val_binary_accuracy: 0.8437 - val_precision: 0.9826 - val_recall: 0.7029\n",
      "Epoch 2/20\n",
      "1094/1094 [==============================] - 148s 135ms/step - loss: 1.3812 - binary_accuracy: 0.9087 - precision: 0.8978 - recall: 0.9216 - val_loss: 0.9584 - val_binary_accuracy: 0.9369 - val_precision: 0.9592 - val_recall: 0.9139\n",
      "Epoch 3/20\n",
      "1094/1094 [==============================] - 135s 123ms/step - loss: 1.0370 - binary_accuracy: 0.9312 - precision: 0.9049 - recall: 0.9630 - val_loss: 1.0394 - val_binary_accuracy: 0.9315 - val_precision: 0.9629 - val_recall: 0.8988\n",
      "Epoch 4/20\n",
      "1094/1094 [==============================] - 126s 116ms/step - loss: 0.8708 - binary_accuracy: 0.9427 - precision: 0.9442 - recall: 0.9406 - val_loss: 1.0643 - val_binary_accuracy: 0.9303 - val_precision: 0.9700 - val_recall: 0.8893\n"
     ]
    },
    {
     "data": {
      "text/plain": [
       "<keras.callbacks.History at 0x20799812590>"
      ]
     },
     "execution_count": 3,
     "metadata": {},
     "output_type": "execute_result"
    }
   ],
   "source": [
    "base_model = keras.applications.MobileNetV3Small(\n",
    "    weights='imagenet',\n",
    "    input_shape=(224, 224, 3),\n",
    "    include_top=False\n",
    ")\n",
    "\n",
    "base_model.trainable = False\n",
    "\n",
    "model = keras.Sequential()\n",
    "model.add(keras.layers.Lambda(keras.applications.mobilenet_v3.preprocess_input, input_shape=(224, 224, 3)))\n",
    "model.add(base_model)\n",
    "model.add(keras.layers.Dropout(0.2))\n",
    "model.add(keras.layers.Flatten())\n",
    "model.add(keras.layers.Dense(1))\n",
    "\n",
    "model.compile(\n",
    "    loss=keras.losses.BinaryCrossentropy(),\n",
    "    optimizer=keras.optimizers.Adam(),\n",
    "    metrics=[\n",
    "        keras.metrics.BinaryAccuracy(),\n",
    "        keras.metrics.Precision(),\n",
    "        keras.metrics.Recall()\n",
    "    ]\n",
    ")\n",
    "\n",
    "callbacks = [\n",
    "    keras.callbacks.ModelCheckpoint(\n",
    "        filepath='checkpoints/checkpoints',\n",
    "        save_weights_only=True,\n",
    "        monitor='val_binary_accuracy',\n",
    "        save_best_only=True),\n",
    "    keras.callbacks.EarlyStopping(\n",
    "        monitor='val_binary_accuracy',\n",
    "        min_delta=0.1,\n",
    "        patience=3,\n",
    "        restore_best_weights=True),\n",
    "    keras.callbacks.TensorBoard(log_dir='logs')\n",
    "]\n",
    "\n",
    "model.fit(\n",
    "    train_ds,\n",
    "    validation_data=val_ds,\n",
    "    epochs=20,\n",
    "    callbacks=callbacks)"
   ]
  },
  {
   "attachments": {},
   "cell_type": "markdown",
   "metadata": {},
   "source": [
    "Proviamo adesso ad effettuare il **fine tuning**. Per farlo, impostiamo `trainable` a `True`, e compiliamo il modello usando un learning rate molto basso (in questo caso, 0.00001)."
   ]
  },
  {
   "cell_type": "code",
   "execution_count": 5,
   "metadata": {},
   "outputs": [
    {
     "name": "stdout",
     "output_type": "stream",
     "text": [
      "Epoch 1/3\n",
      "1094/1094 [==============================] - 421s 377ms/step - loss: 0.4656 - binary_accuracy: 0.9358 - precision_2: 0.9383 - recall_2: 0.9323 - val_loss: 0.3857 - val_binary_accuracy: 0.9403 - val_precision_2: 0.9397 - val_recall_2: 0.9422\n",
      "Epoch 2/3\n",
      "1094/1094 [==============================] - 446s 408ms/step - loss: 0.3278 - binary_accuracy: 0.9451 - precision_2: 0.9494 - recall_2: 0.9400 - val_loss: 0.3459 - val_binary_accuracy: 0.9453 - val_precision_2: 0.9382 - val_recall_2: 0.9546\n",
      "Epoch 3/3\n",
      "1094/1094 [==============================] - 403s 369ms/step - loss: 0.2893 - binary_accuracy: 0.9502 - precision_2: 0.9536 - recall_2: 0.9459 - val_loss: 0.3079 - val_binary_accuracy: 0.9483 - val_precision_2: 0.9436 - val_recall_2: 0.9546\n"
     ]
    },
    {
     "data": {
      "text/plain": [
       "<keras.callbacks.History at 0x2079ecff4c0>"
      ]
     },
     "execution_count": 5,
     "metadata": {},
     "output_type": "execute_result"
    }
   ],
   "source": [
    "base_model.trainable = True\n",
    "\n",
    "model.compile(\n",
    "    loss=keras.losses.BinaryCrossentropy(from_logits=True),\n",
    "    optimizer=keras.optimizers.Adam(1e-5),\n",
    "    metrics=[\n",
    "        keras.metrics.BinaryAccuracy(),\n",
    "        keras.metrics.Precision(),\n",
    "        keras.metrics.Recall()\n",
    "    ]\n",
    ")\n",
    "\n",
    "model.fit(\n",
    "    train_ds,\n",
    "    validation_data=val_ds,\n",
    "    epochs=3,\n",
    "    callbacks=callbacks)"
   ]
  },
  {
   "cell_type": "code",
   "execution_count": null,
   "metadata": {},
   "outputs": [],
   "source": []
  }
 ],
 "metadata": {
  "kernelspec": {
   "display_name": "Python 3 (ipykernel)",
   "language": "python",
   "name": "python3"
  },
  "language_info": {
   "codemirror_mode": {
    "name": "ipython",
    "version": 3
   },
   "file_extension": ".py",
   "mimetype": "text/x-python",
   "name": "python",
   "nbconvert_exporter": "python",
   "pygments_lexer": "ipython3",
   "version": "3.10.10"
  }
 },
 "nbformat": 4,
 "nbformat_minor": 4
}
