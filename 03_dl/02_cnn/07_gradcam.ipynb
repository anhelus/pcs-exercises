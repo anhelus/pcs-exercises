{
 "cells": [
  {
   "cell_type": "code",
   "execution_count": 1,
   "metadata": {},
   "outputs": [],
   "source": [
    "from tensorflow import keras\n",
    "from tf_explain.core import GradCAM\n",
    "import numpy as np"
   ]
  },
  {
   "cell_type": "code",
   "execution_count": 2,
   "metadata": {},
   "outputs": [],
   "source": [
    "vgg16 = keras.applications.VGG16()\n",
    "xception = keras.applications.Xception()\n",
    "resnet = keras.applications.ResNet152V2()"
   ]
  },
  {
   "cell_type": "code",
   "execution_count": 3,
   "metadata": {},
   "outputs": [],
   "source": [
    "explainer = GradCAM()\n",
    "\n",
    "img_vgg = keras.preprocessing.image.load_img('data/bird.jpg', target_size=(224, 224))\n",
    "img_vgg = keras.preprocessing.image.img_to_array(img_vgg)\n",
    "data_vgg = ([img_vgg], None)\n",
    "grid_vgg = explainer.explain(data_vgg, vgg16, class_index=13)\n",
    "explainer.save(grid_vgg, 'xai', 'gradcam_vgg.png')"
   ]
  },
  {
   "cell_type": "code",
   "execution_count": 4,
   "metadata": {},
   "outputs": [
    {
     "name": "stderr",
     "output_type": "stream",
     "text": [
      "c:\\Users\\Angelo\\.virtualenvs\\pcs-exercises-v7kX8Rwt\\lib\\site-packages\\tf_explain\\utils\\display.py:112: RuntimeWarning: invalid value encountered in divide\n",
      "  heatmap = (heatmap - np.min(heatmap)) / (heatmap.max() - heatmap.min())\n"
     ]
    }
   ],
   "source": [
    "img_xception = keras.preprocessing.image.load_img('data/bird.jpg', target_size=(299, 299))\n",
    "img_xception = keras.preprocessing.image.img_to_array(img_xception)\n",
    "data_xception = ([img_xception], None)\n",
    "grid_xception = explainer.explain(data_xception, xception, class_index=13)\n",
    "explainer.save(grid_xception, 'xai', 'gradcam_xception.png')"
   ]
  },
  {
   "cell_type": "code",
   "execution_count": 5,
   "metadata": {},
   "outputs": [],
   "source": [
    "img_resnet = keras.preprocessing.image.load_img('data/bird.jpg', target_size=(224, 224))\n",
    "img_resnet = keras.preprocessing.image.img_to_array(img_resnet)\n",
    "data_resnet = ([img_resnet], None)\n",
    "grid_resnet = explainer.explain(data_resnet, resnet, class_index=13)\n",
    "explainer.save(grid_resnet, 'xai', 'gradcam_resnet.png')"
   ]
  }
 ],
 "metadata": {
  "kernelspec": {
   "display_name": "pcs-exercises-v7kX8Rwt",
   "language": "python",
   "name": "python3"
  },
  "language_info": {
   "codemirror_mode": {
    "name": "ipython",
    "version": 3
   },
   "file_extension": ".py",
   "mimetype": "text/x-python",
   "name": "python",
   "nbconvert_exporter": "python",
   "pygments_lexer": "ipython3",
   "version": "3.10.10"
  },
  "orig_nbformat": 4
 },
 "nbformat": 4,
 "nbformat_minor": 2
}
