{
 "cells": [
  {
   "cell_type": "code",
   "execution_count": 1,
   "metadata": {},
   "outputs": [],
   "source": [
    "from tensorflow import keras\n",
    "from tf_explain.core import GradCAM\n",
    "import numpy as np"
   ]
  },
  {
   "cell_type": "code",
   "execution_count": 2,
   "metadata": {},
   "outputs": [
    {
     "name": "stdout",
     "output_type": "stream",
     "text": [
      "Downloading data from https://storage.googleapis.com/tensorflow/keras-applications/vgg16/vgg16_weights_tf_dim_ordering_tf_kernels.h5\n",
      "553467096/553467096 [==============================] - 126s 0us/step\n"
     ]
    }
   ],
   "source": [
    "vgg16 = keras.applications.VGG16()"
   ]
  },
  {
   "cell_type": "code",
   "execution_count": 3,
   "metadata": {},
   "outputs": [],
   "source": [
    "explainer = GradCAM()\n",
    "\n",
    "img_vgg = keras.preprocessing.image.load_img('data/bird.jpg', target_size=(224, 224))\n",
    "img_vgg = keras.preprocessing.image.img_to_array(img_vgg)\n",
    "data_vgg = ([img_vgg], None)\n",
    "grid_vgg = explainer.explain(data_vgg, vgg16, class_index=13)\n",
    "explainer.save(grid_vgg, 'xai', 'gradcam_vgg.png')"
   ]
  },
  {
   "cell_type": "code",
   "execution_count": 27,
   "metadata": {},
   "outputs": [],
   "source": [
    "custom_net = keras.models.load_model('results/saved_cat_dogs.h5')\n",
    "\n",
    "img = keras.preprocessing.image.load_img('data/cats_dogs/cats/cat.0.jpg', target_size=(256, 256))\n",
    "img = keras.preprocessing.image.img_to_array(img)\n",
    "data = ([img], None)\n",
    "grid = explainer.explain(data, custom_net, class_index=0)\n",
    "explainer.save(grid, 'xai', 'gradCAT.png')"
   ]
  },
  {
   "cell_type": "code",
   "execution_count": null,
   "metadata": {},
   "outputs": [],
   "source": []
  }
 ],
 "metadata": {
  "kernelspec": {
   "display_name": "pcs-exercises-v7kX8Rwt",
   "language": "python",
   "name": "python3"
  },
  "language_info": {
   "codemirror_mode": {
    "name": "ipython",
    "version": 3
   },
   "file_extension": ".py",
   "mimetype": "text/x-python",
   "name": "python",
   "nbconvert_exporter": "python",
   "pygments_lexer": "ipython3",
   "version": "3.10.11"
  },
  "orig_nbformat": 4
 },
 "nbformat": 4,
 "nbformat_minor": 2
}
