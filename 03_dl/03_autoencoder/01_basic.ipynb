{
 "cells": [
  {
   "cell_type": "code",
   "execution_count": 1,
   "metadata": {},
   "outputs": [],
   "source": [
    "import numpy as np\n",
    "import matplotlib.pyplot as plt\n",
    "\n",
    "from tensorflow import keras"
   ]
  },
  {
   "cell_type": "code",
   "execution_count": 29,
   "metadata": {},
   "outputs": [],
   "source": [
    "(x_train, _), (x_test, _) = keras.datasets.mnist.load_data()\n",
    "\n",
    "def preprocess(design_matrix):\n",
    "    return design_matrix.astype('float32') / 255\n",
    "\n",
    "x_train = preprocess(x_train)\n",
    "x_test = preprocess(x_test)"
   ]
  },
  {
   "cell_type": "code",
   "execution_count": 36,
   "metadata": {},
   "outputs": [],
   "source": [
    "class Autoencoder(keras.Model):\n",
    "    def __init__(self, latent_dim=64):\n",
    "        super(Autoencoder, self).__init__()\n",
    "        self.encoder = keras.Sequential([\n",
    "            keras.layers.Flatten(),\n",
    "            keras.layers.Dense(latent_dim, activation='relu')\n",
    "        ])\n",
    "        self.decoder = keras.Sequential([\n",
    "            keras.layers.Dense(784, activation='sigmoid'),\n",
    "            keras.layers.Reshape((28, 28))\n",
    "        ])\n",
    "    \n",
    "    def call(self, x):\n",
    "        encoded = self.encoder(x)\n",
    "        return self.decoder(encoded)\n",
    "\n",
    "autoencoder = Autoencoder(latent_dim=32)"
   ]
  },
  {
   "attachments": {},
   "cell_type": "markdown",
   "metadata": {},
   "source": [
    "Prove:\n",
    "\n",
    "1. vedere cosa accade modificando il valore di `latent_dim`;\n",
    "2. vedere cosa accade modificando l'algoritmo di ottimizzazione da `Adam` ad `SGD`."
   ]
  },
  {
   "cell_type": "code",
   "execution_count": 37,
   "metadata": {},
   "outputs": [],
   "source": [
    "autoencoder.compile(\n",
    "    optimizer=keras.optimizers.Adam(),\n",
    "    loss=keras.losses.MeanSquaredError()\n",
    ")"
   ]
  },
  {
   "cell_type": "code",
   "execution_count": 38,
   "metadata": {},
   "outputs": [
    {
     "name": "stdout",
     "output_type": "stream",
     "text": [
      "Epoch 1/10\n",
      "1875/1875 [==============================] - 2s 816us/step - loss: 0.0323 - val_loss: 0.0159\n",
      "Epoch 2/10\n",
      "1875/1875 [==============================] - 2s 814us/step - loss: 0.0132 - val_loss: 0.0112\n",
      "Epoch 3/10\n",
      "1875/1875 [==============================] - 1s 776us/step - loss: 0.0111 - val_loss: 0.0104\n",
      "Epoch 4/10\n",
      "1875/1875 [==============================] - 1s 776us/step - loss: 0.0107 - val_loss: 0.0103\n",
      "Epoch 5/10\n",
      "1875/1875 [==============================] - 1s 783us/step - loss: 0.0105 - val_loss: 0.0101\n",
      "Epoch 6/10\n",
      "1875/1875 [==============================] - 1s 778us/step - loss: 0.0104 - val_loss: 0.0100\n",
      "Epoch 7/10\n",
      "1875/1875 [==============================] - 1s 775us/step - loss: 0.0104 - val_loss: 0.0100\n",
      "Epoch 8/10\n",
      "1875/1875 [==============================] - 1s 771us/step - loss: 0.0103 - val_loss: 0.0100\n",
      "Epoch 9/10\n",
      "1875/1875 [==============================] - 1s 773us/step - loss: 0.0103 - val_loss: 0.0099\n",
      "Epoch 10/10\n",
      "1875/1875 [==============================] - 1s 769us/step - loss: 0.0102 - val_loss: 0.0099\n"
     ]
    },
    {
     "data": {
      "text/plain": [
       "<keras.callbacks.History at 0x1d3ce44d0f0>"
      ]
     },
     "execution_count": 38,
     "metadata": {},
     "output_type": "execute_result"
    }
   ],
   "source": [
    "autoencoder.fit(\n",
    "    x_train,\n",
    "    x_train,\n",
    "    epochs=10,\n",
    "    shuffle=True,\n",
    "    validation_data=(x_test, x_test))"
   ]
  },
  {
   "cell_type": "code",
   "execution_count": 39,
   "metadata": {},
   "outputs": [],
   "source": [
    "encoded_imgs = autoencoder.encoder(x_test).numpy()\n",
    "decoded_imgs = autoencoder.decoder(encoded_imgs).numpy()"
   ]
  },
  {
   "cell_type": "code",
   "execution_count": 40,
   "metadata": {},
   "outputs": [
    {
     "data": {
      "image/png": "[encoded data removed]",
      "text/plain": [
       "<Figure size 640x480 with 10 Axes>"
      ]
     },
     "metadata": {},
     "output_type": "display_data"
    }
   ],
   "source": [
    "plt.figure()\n",
    "\n",
    "for i in range(5):\n",
    "    # original\n",
    "    ax = plt.subplot(2, 5, i+1)\n",
    "    plt.imshow(x_test[i], cmap='gray')\n",
    "    plt.title('Original')\n",
    "    plt.axis('off')\n",
    "    # reconstruction\n",
    "    ax = plt.subplot(2, 5, i+1+5)\n",
    "    plt.imshow(decoded_imgs[i], cmap='gray')\n",
    "    plt.title('Rec')\n",
    "    plt.axis('off')\n",
    "plt.show()"
   ]
  },
  {
   "cell_type": "code",
   "execution_count": null,
   "metadata": {},
   "outputs": [],
   "source": []
  }
 ],
 "metadata": {
  "kernelspec": {
   "display_name": "pcs-exercises-v7kX8Rwt",
   "language": "python",
   "name": "python3"
  },
  "language_info": {
   "codemirror_mode": {
    "name": "ipython",
    "version": 3
   },
   "file_extension": ".py",
   "mimetype": "text/x-python",
   "name": "python",
   "nbconvert_exporter": "python",
   "pygments_lexer": "ipython3",
   "version": "3.10.10"
  },
  "orig_nbformat": 4
 },
 "nbformat": 4,
 "nbformat_minor": 2
}
